{
 "cells": [
  {
   "cell_type": "markdown",
   "metadata": {
    "deletable": false,
    "editable": false,
    "id": "wZYSCsMz1QR4",
    "nbgrader": {
     "cell_type": "markdown",
     "checksum": "9d2c9365d570e3b4138e56a3d1d0763c",
     "grade": false,
     "grade_id": "cell-1f14a43b85d09320",
     "locked": true,
     "schema_version": 3,
     "solution": false,
     "task": false
    }
   },
   "source": [
    "<!-- # CMPUT 200 Fall 2024  Ethics of Data Science and AI\n",
    " -->\n",
    "# Assignment 2: Fairness Analysis of a Dataset"
   ]
  },
  {
   "cell_type": "markdown",
   "metadata": {
    "id": "e9M7VIZWdu41"
   },
   
  },
  {
   "cell_type": "markdown",
   "metadata": {
    "deletable": false,
    "editable": false,
    "id": "YBroUveHdu41",
    "nbgrader": {
     "cell_type": "markdown",
     "checksum": "ef3778888a8185b64a323b133a8adcde",
     "grade": false,
     "grade_id": "cell-90d792391597de0c",
     "locked": true,
     "schema_version": 3,
     "solution": false,
     "task": false
    }
   },

  },
  {
   "cell_type": "code",
   "execution_count": 2,
   "metadata": {
    "deletable": false,
    "editable": false,
    "id": "ZfrPg4x30DDJ",
    "nbgrader": {
     "cell_type": "code",
     "checksum": "b7c09601444fbcee6d56e3e3065e1cb0",
     "grade": false,
     "grade_id": "cell-96ada4da5a0ad7f4",
     "locked": true,
     "schema_version": 3,
     "solution": false,
     "task": false
    },
    "tags": []
   },
   "outputs": [],
   "source": [
    "# Don't change this cell; just run it.\n",
    "import numpy as np\n",
    "from numpy.random import default_rng\n",
    "import pandas as pd\n",
    "from scipy.optimize import minimize\n",
    "import statsmodels.api as sm\n",
    "\n",
    "# These lines do some fancy plotting magic.\n",
    "import matplotlib\n",
    "# This is a magic function that renders the figure in the notebook, instead of displaying a dump of the figure object.\n",
    "%matplotlib inline\n",
    "import matplotlib.pyplot as plt\n",
    "plt.style.use('fivethirtyeight')\n",
    "import seaborn as sns\n",
    "import warnings\n",
    "warnings.simplefilter('ignore', FutureWarning)"
   ]
  },
  {
   "cell_type": "code",
   "execution_count": 3,
   "metadata": {
    "deletable": false,
    "editable": false,
    "id": "Evb1ew8P1yp8",
    "nbgrader": {
     "cell_type": "code",
     "checksum": "eb14e4d27fbbaf39f3f6bdf1c41a2d3b",
     "grade": false,
     "grade_id": "cell-1379add19442788f",
     "locked": true,
     "schema_version": 3,
     "solution": false,
     "task": false
    }
   },
   "outputs": [],
   "source": [
    "# Don't change this cell; just run it.\n",
    "rng_seed = 42\n",
    "rng = default_rng(rng_seed)\n",
    "rngstate = np.random.RandomState(rng_seed)"
   ]
  },
  {
   "cell_type": "markdown",
   "metadata": {
    "deletable": false,
    "editable": false,
    "id": "B9tpbJze1yp9",
    "nbgrader": {
     "cell_type": "markdown",
     "checksum": "b0a801d9a9088efbf0836db0e0c149a7",
     "grade": false,
     "grade_id": "cell-608b2701efa9f27f",
     "locked": true,
     "schema_version": 3,
     "solution": false,
     "task": false
    },
    "tags": []
   },
   "source": [
    "## Data\n",
    "**Question 1.** We will first load the data, carry out some cleaning and pre-processing, and inspect the data to understand what exploratory steps we will take. Name the DataFrame `df_init`."
   ]
  },
  {
   "cell_type": "code",
   "execution_count": 4,
   "metadata": {
    "deletable": false,
    "id": "Hl4s47-Y1yp-",
    "nbgrader": {
     "cell_type": "code",
     "checksum": "d4aa28d6bc7053b55a4733452a3b726e",
     "grade": false,
     "grade_id": "cell-07068cc9e0a486b8",
     "locked": false,
     "schema_version": 3,
     "solution": true,
     "task": false
    }
   },
   "outputs": [
    {
     "name": "stdout",
     "output_type": "stream",
     "text": [
      "Shape:  (891, 12)\n"
     ]
    },
    {
     "data": {
      "text/html": [
       "<div>\n",
       "<style scoped>\n",
       "    .dataframe tbody tr th:only-of-type {\n",
       "        vertical-align: middle;\n",
       "    }\n",
       "\n",
       "    .dataframe tbody tr th {\n",
       "        vertical-align: top;\n",
       "    }\n",
       "\n",
       "    .dataframe thead th {\n",
       "        text-align: right;\n",
       "    }\n",
       "</style>\n",
       "<table border=\"1\" class=\"dataframe\">\n",
       "  <thead>\n",
       "    <tr style=\"text-align: right;\">\n",
       "      <th></th>\n",
       "      <th>PassengerId</th>\n",
       "      <th>Survived</th>\n",
       "      <th>Pclass</th>\n",
       "      <th>Name</th>\n",
       "      <th>Sex</th>\n",
       "      <th>Age</th>\n",
       "      <th>SibSp</th>\n",
       "      <th>Parch</th>\n",
       "      <th>Ticket</th>\n",
       "      <th>Fare</th>\n",
       "      <th>Cabin</th>\n",
       "      <th>Embarked</th>\n",
       "    </tr>\n",
       "  </thead>\n",
       "  <tbody>\n",
       "    <tr>\n",
       "      <th>0</th>\n",
       "      <td>1</td>\n",
       "      <td>0</td>\n",
       "      <td>3</td>\n",
       "      <td>Braund, Mr. Owen Harris</td>\n",
       "      <td>male</td>\n",
       "      <td>22.0</td>\n",
       "      <td>1</td>\n",
       "      <td>0</td>\n",
       "      <td>A/5 21171</td>\n",
       "      <td>7.2500</td>\n",
       "      <td>NaN</td>\n",
       "      <td>S</td>\n",
       "    </tr>\n",
       "    <tr>\n",
       "      <th>1</th>\n",
       "      <td>2</td>\n",
       "      <td>1</td>\n",
       "      <td>1</td>\n",
       "      <td>Cumings, Mrs. John Bradley (Florence Briggs Th...</td>\n",
       "      <td>female</td>\n",
       "      <td>38.0</td>\n",
       "      <td>1</td>\n",
       "      <td>0</td>\n",
       "      <td>PC 17599</td>\n",
       "      <td>71.2833</td>\n",
       "      <td>C85</td>\n",
       "      <td>C</td>\n",
       "    </tr>\n",
       "    <tr>\n",
       "      <th>2</th>\n",
       "      <td>3</td>\n",
       "      <td>1</td>\n",
       "      <td>3</td>\n",
       "      <td>Heikkinen, Miss. Laina</td>\n",
       "      <td>female</td>\n",
       "      <td>26.0</td>\n",
       "      <td>0</td>\n",
       "      <td>0</td>\n",
       "      <td>STON/O2. 3101282</td>\n",
       "      <td>7.9250</td>\n",
       "      <td>NaN</td>\n",
       "      <td>S</td>\n",
       "    </tr>\n",
       "    <tr>\n",
       "      <th>3</th>\n",
       "      <td>4</td>\n",
       "      <td>1</td>\n",
       "      <td>1</td>\n",
       "      <td>Futrelle, Mrs. Jacques Heath (Lily May Peel)</td>\n",
       "      <td>female</td>\n",
       "      <td>35.0</td>\n",
       "      <td>1</td>\n",
       "      <td>0</td>\n",
       "      <td>113803</td>\n",
       "      <td>53.1000</td>\n",
       "      <td>C123</td>\n",
       "      <td>S</td>\n",
       "    </tr>\n",
       "    <tr>\n",
       "      <th>4</th>\n",
       "      <td>5</td>\n",
       "      <td>0</td>\n",
       "      <td>3</td>\n",
       "      <td>Allen, Mr. William Henry</td>\n",
       "      <td>male</td>\n",
       "      <td>35.0</td>\n",
       "      <td>0</td>\n",
       "      <td>0</td>\n",
       "      <td>373450</td>\n",
       "      <td>8.0500</td>\n",
       "      <td>NaN</td>\n",
       "      <td>S</td>\n",
       "    </tr>\n",
       "  </tbody>\n",
       "</table>\n",
       "</div>"
      ],
      "text/plain": [
       "   PassengerId  Survived  Pclass  \\\n",
       "0            1         0       3   \n",
       "1            2         1       1   \n",
       "2            3         1       3   \n",
       "3            4         1       1   \n",
       "4            5         0       3   \n",
       "\n",
       "                                                Name     Sex   Age  SibSp  \\\n",
       "0                            Braund, Mr. Owen Harris    male  22.0      1   \n",
       "1  Cumings, Mrs. John Bradley (Florence Briggs Th...  female  38.0      1   \n",
       "2                             Heikkinen, Miss. Laina  female  26.0      0   \n",
       "3       Futrelle, Mrs. Jacques Heath (Lily May Peel)  female  35.0      1   \n",
       "4                           Allen, Mr. William Henry    male  35.0      0   \n",
       "\n",
       "   Parch            Ticket     Fare Cabin Embarked  \n",
       "0      0         A/5 21171   7.2500   NaN        S  \n",
       "1      0          PC 17599  71.2833   C85        C  \n",
       "2      0  STON/O2. 3101282   7.9250   NaN        S  \n",
       "3      0            113803  53.1000  C123        S  \n",
       "4      0            373450   8.0500   NaN        S  "
      ]
     },
     "execution_count": 4,
     "metadata": {},
     "output_type": "execute_result"
    }
   ],
   "source": [
    "# YOUR CODE HERE\n",
    "df_init = pd.read_csv('titanic.csv')\n",
    "\n",
    "print(\"Shape: \", df_init.shape)\n",
    "df_init.head(5)\n"
   ]
  },
  {
   "cell_type": "markdown",
   "metadata": {
    "deletable": false,
    "editable": false,
    "id": "6iTxSAoedu43",
    "nbgrader": {
     "cell_type": "markdown",
     "checksum": "3ffe859faa8fe365892315bb0c5a15cd",
     "grade": false,
     "grade_id": "cell-0dd6cdc476fa86d7",
     "locked": true,
     "schema_version": 3,
     "solution": false,
     "task": false
    }
   },
   "source": [
    "**Question 1.1.** Describe your data and its purpose. What are the sensitive variables, features, and target variables? Are there any latent variables?"
   ]
  },
  {
   "cell_type": "markdown",
   "metadata": {
    "deletable": false,
    "id": "op6wZeEjdu43",
    "nbgrader": {
     "cell_type": "markdown",
     "checksum": "6290c9f6c23c3491ccb33c0fc2cc7fc6",
     "grade": true,
     "grade_id": "cell-fdbb4abf71f1ad23",
     "locked": false,
     "points": 10,
     "schema_version": 3,
     "solution": true,
     "task": false
    }
   },
   "source": [
    "Purpose:\n",
    "This dataset contains information about passengers on the Titanic. The primary purpose is to analyze survival outcomes based on various attributes such as age, gender, and socioeconomic status, and to perhaps build predictive models for survival.\n",
    "\n",
    "Sensitive variables:\n",
    "Sex, Pclass, Name, Age\n",
    "\n",
    "Features:\n",
    "SibSp, Parch, Fare, Embarked\n",
    "\n",
    "Target variable:\n",
    "Survived\n",
    "\n",
    "Examples of Latent variables:\n",
    "Social connections(having a family or friends on board), Health condition of passenger(s), Decision making during the evauation process, etc"
   ]
  },
  {
   "cell_type": "markdown",
   "metadata": {
    "deletable": false,
    "editable": false,
    "id": "XpsRJ_2rdu43",
    "nbgrader": {
     "cell_type": "markdown",
     "checksum": "d049277444f43978f6adb3af2b240da7",
     "grade": false,
     "grade_id": "cell-08671be97520844c",
     "locked": true,
     "schema_version": 3,
     "solution": false,
     "task": false
    }
   },
   "source": [
    "It is crucial, in every data analysis project, to have a good understanding of the data.  This includes:  how the data was collected, what sources the data originate from, how data were merged, what the data columns refer to, etc.  \n",
    "\n",
    "**Question 2.** Do some investigating online about your dataset. Do they provide a methodology on how the data was collected? How was it analysed? Describe your findings below. (If your data does not have a methodology, describe how you would collect and analyse the data yourself).\n",
    "\n",
    "\n"
   ]
  },
  {
   "cell_type": "markdown",
   "metadata": {
    "deletable": false,
    "id": "qc_gkr_q1yqA",
    "nbgrader": {
     "cell_type": "markdown",
     "checksum": "ec5ee29afc7fb4fd1323947d05a8c28c",
     "grade": true,
     "grade_id": "cell-bab795b4d2e8f91a",
     "locked": false,
     "points": 10,
     "schema_version": 3,
     "solution": true,
     "task": false
    }
   },
   "source": [
    "How the Data was Collected:\n",
    "\n",
    "The dataset aggregates information from various historical records, including:\n",
    "\n",
    "Passenger Manifests: Official lists detailing passengers' names, ages, and ticket information.\n",
    "Survival Records: Documents indicating which passengers survived the sinking.\n",
    "Personal Testimonies: Accounts from survivors providing additional context.\n",
    "\n",
    "How the Data was Analyzed:\n",
    "\n",
    "Researchers and educators utilize this dataset to explore factors influencing survival rates, such as:\n",
    "\n",
    "Demographic Variables: Age, gender, and socioeconomic status (indicated by passenger class).\n",
    "Family Connections: Number of siblings/spouses and parents/children aboard.\n",
    "Travel Details: Fare paid and port of embarkation."
   ]
  },
  {
   "cell_type": "markdown",
   "metadata": {
    "deletable": false,
    "editable": false,
    "id": "fHhY4dkx1yqB",
    "nbgrader": {
     "cell_type": "markdown",
     "checksum": "8d2fa41b13970292eba36a24b196dcef",
     "grade": false,
     "grade_id": "cell-90670bb121b85bdc",
     "locked": true,
     "schema_version": 3,
     "solution": false,
     "task": false
    }
   },
   "source": [
    "### Data pre-processing\n",
    "**Question 3.** You will now follow your dataset's methodology in pre-processing the data.  Note that your data may not be already filtered, so there may be rows that are not needed or missing values (NaN).  In your pre-processing, first retain only relevant columns for ease of analysis and inspection.  Relevant columns are those that you will need for analysis in this assignment - please read the whole assignment once over to determine which columns to retain.   You will need to retain all columns with sensitive features, the output columns, and other columns that contain features needed for the analysis.  Remember, it's always a good idea to check first all the columns and do any investigation into your dataset, like you were asked in Question 2.  Once you've retained the columns you want, remove the rows that are missing data (if needed).  \n",
    "\n",
    "Next, determine if you have to do any more filtering (e.g. maybe you only want to consider individuals between 20 and 30 years old). Also decide if there are any any values that you want to remove (e.g. maybe you want to remove people classified as '0' for a medical condition)."
   ]
  },
  {
   "cell_type": "code",
   "execution_count": 5,
   "metadata": {
    "deletable": false,
    "id": "ixPrae1q1yqB",
    "nbgrader": {
     "cell_type": "code",
     "checksum": "f81c8bd80c42b8dbac3fcaed342129e1",
     "grade": true,
     "grade_id": "cell-c47d3306e95b25dc",
     "locked": false,
     "points": 5,
     "schema_version": 3,
     "solution": true,
     "task": false
    }
   },
   "outputs": [
    {
     "name": "stdout",
     "output_type": "stream",
     "text": [
      "Shape:  (712, 8)\n"
     ]
    },
    {
     "data": {
      "text/html": [
       "<div>\n",
       "<style scoped>\n",
       "    .dataframe tbody tr th:only-of-type {\n",
       "        vertical-align: middle;\n",
       "    }\n",
       "\n",
       "    .dataframe tbody tr th {\n",
       "        vertical-align: top;\n",
       "    }\n",
       "\n",
       "    .dataframe thead th {\n",
       "        text-align: right;\n",
       "    }\n",
       "</style>\n",
       "<table border=\"1\" class=\"dataframe\">\n",
       "  <thead>\n",
       "    <tr style=\"text-align: right;\">\n",
       "      <th></th>\n",
       "      <th>Survived</th>\n",
       "      <th>Pclass</th>\n",
       "      <th>Sex</th>\n",
       "      <th>Age</th>\n",
       "      <th>SibSp</th>\n",
       "      <th>Parch</th>\n",
       "      <th>Fare</th>\n",
       "      <th>Embarked</th>\n",
       "    </tr>\n",
       "  </thead>\n",
       "  <tbody>\n",
       "    <tr>\n",
       "      <th>0</th>\n",
       "      <td>0</td>\n",
       "      <td>3</td>\n",
       "      <td>male</td>\n",
       "      <td>22.0</td>\n",
       "      <td>1</td>\n",
       "      <td>0</td>\n",
       "      <td>7.2500</td>\n",
       "      <td>S</td>\n",
       "    </tr>\n",
       "    <tr>\n",
       "      <th>1</th>\n",
       "      <td>1</td>\n",
       "      <td>1</td>\n",
       "      <td>female</td>\n",
       "      <td>38.0</td>\n",
       "      <td>1</td>\n",
       "      <td>0</td>\n",
       "      <td>71.2833</td>\n",
       "      <td>C</td>\n",
       "    </tr>\n",
       "    <tr>\n",
       "      <th>2</th>\n",
       "      <td>1</td>\n",
       "      <td>3</td>\n",
       "      <td>female</td>\n",
       "      <td>26.0</td>\n",
       "      <td>0</td>\n",
       "      <td>0</td>\n",
       "      <td>7.9250</td>\n",
       "      <td>S</td>\n",
       "    </tr>\n",
       "    <tr>\n",
       "      <th>3</th>\n",
       "      <td>1</td>\n",
       "      <td>1</td>\n",
       "      <td>female</td>\n",
       "      <td>35.0</td>\n",
       "      <td>1</td>\n",
       "      <td>0</td>\n",
       "      <td>53.1000</td>\n",
       "      <td>S</td>\n",
       "    </tr>\n",
       "    <tr>\n",
       "      <th>4</th>\n",
       "      <td>0</td>\n",
       "      <td>3</td>\n",
       "      <td>male</td>\n",
       "      <td>35.0</td>\n",
       "      <td>0</td>\n",
       "      <td>0</td>\n",
       "      <td>8.0500</td>\n",
       "      <td>S</td>\n",
       "    </tr>\n",
       "  </tbody>\n",
       "</table>\n",
       "</div>"
      ],
      "text/plain": [
       "   Survived  Pclass     Sex   Age  SibSp  Parch     Fare Embarked\n",
       "0         0       3    male  22.0      1      0   7.2500        S\n",
       "1         1       1  female  38.0      1      0  71.2833        C\n",
       "2         1       3  female  26.0      0      0   7.9250        S\n",
       "3         1       1  female  35.0      1      0  53.1000        S\n",
       "4         0       3    male  35.0      0      0   8.0500        S"
      ]
     },
     "execution_count": 5,
     "metadata": {},
     "output_type": "execute_result"
    }
   ],
   "source": [
    "cols_retain = ['Survived', 'Pclass', 'Sex', 'Age', 'SibSp', 'Parch', 'Fare', 'Embarked']\n",
    "\n",
    "# YOUR CODE HERE\n",
    "df_filtered = df_init[cols_retain]  # Retain only relevant columns\n",
    "df_cleaned = df_filtered.dropna()  # Remove rows with missing values\n",
    "\n",
    "print(\"Shape: \", df_cleaned.shape)\n",
    "df_cleaned.head()\n"
   ]
  },
  {
   "cell_type": "markdown",
   "metadata": {
    "deletable": false,
    "editable": false,
    "id": "WGZVZX0E1yqD",
    "nbgrader": {
     "cell_type": "markdown",
     "checksum": "18184049dd3cda7b1f544dd8bf228627",
     "grade": false,
     "grade_id": "cell-7c9c7917b17b0ba7",
     "locked": true,
     "schema_version": 3,
     "solution": false,
     "task": false
    }
   },
   "source": [
    "**Question 3.1.** We will be working with your dataset's variable of interest, which is the output, or label.  You would have determined what this should be in the previous questions.  Let's first be certain the values are numeric.  You would use `pd.to_numeric`.  Note that there might be NaN values, and if so, you should drop those rows."
   ]
  },
  {
   "cell_type": "code",
   "execution_count": 6,
   "metadata": {
    "deletable": false,
    "id": "0URetjeg1yqD",
    "nbgrader": {
     "cell_type": "code",
     "checksum": "3ed87d971cf253ada3dc13faa1dfa937",
     "grade": true,
     "grade_id": "cell-60cfc6c1d96486cb",
     "locked": false,
     "points": 2,
     "schema_version": 3,
     "solution": true,
     "task": false
    }
   },
   "outputs": [
    {
     "name": "stdout",
     "output_type": "stream",
     "text": [
      "Shape after ensuring 'Survived' is numeric and dropping NaNs:  (712, 8)\n"
     ]
    },
    {
     "name": "stderr",
     "output_type": "stream",
     "text": [
      "C:\\Users\\grace\\AppData\\Local\\Temp\\ipykernel_120\\246690522.py:3: SettingWithCopyWarning: \n",
      "A value is trying to be set on a copy of a slice from a DataFrame.\n",
      "Try using .loc[row_indexer,col_indexer] = value instead\n",
      "\n",
      "See the caveats in the documentation: https://pandas.pydata.org/pandas-docs/stable/user_guide/indexing.html#returning-a-view-versus-a-copy\n",
      "  df_cleaned['Survived'] = pd.to_numeric(df_cleaned['Survived'], errors='coerce')\n"
     ]
    },
    {
     "data": {
      "text/plain": [
       "0    0\n",
       "1    1\n",
       "2    1\n",
       "3    1\n",
       "4    0\n",
       "Name: Survived, dtype: int64"
      ]
     },
     "execution_count": 6,
     "metadata": {},
     "output_type": "execute_result"
    }
   ],
   "source": [
    "# YOUR CODE HERE\n",
    "# Ensure the target variable 'Survived' is numeric\n",
    "df_cleaned['Survived'] = pd.to_numeric(df_cleaned['Survived'], errors='coerce')\n",
    "\n",
    "# Drop rows with NaN values in the target column\n",
    "df_cleaned = df_cleaned.dropna(subset=['Survived'])\n",
    "\n",
    "print(\"Shape after ensuring 'Survived' is numeric and dropping NaNs: \", df_cleaned.shape)\n",
    "df_cleaned['Survived'].head()\n"
   ]
  },
  {
   "cell_type": "markdown",
   "metadata": {
    "deletable": false,
    "editable": false,
    "id": "p4LpFSX-1yqF",
    "nbgrader": {
     "cell_type": "markdown",
     "checksum": "cb030e90bfda8e48ab337fd9f49fe3ff",
     "grade": false,
     "grade_id": "cell-703cb5823587e7c6",
     "locked": true,
     "schema_version": 3,
     "solution": false,
     "task": false
    }
   },
   "source": [
    "### Data exploration\n",
    "Let us now explore the statistics of the data.  Your data contains a variable of interest, which is the output.  Our goal is to compare the analysis of these outputs with the outputs of a logistic regression model we will build ourselves.\n",
    "\n",
    "We will plot the distribution of the variable of interest according to the first sensitive feature (that you defined in question 1) to see how it differs across different subgroups."
   ]
  },
  {
   "cell_type": "markdown",
   "metadata": {
    "deletable": false,
    "editable": false,
    "id": "r3N65O3H1yqF",
    "nbgrader": {
     "cell_type": "markdown",
     "checksum": "6ed69f239caf65600f9f8cf76d8370ff",
     "grade": false,
     "grade_id": "cell-9a196a293ab8f23f",
     "locked": true,
     "schema_version": 3,
     "solution": false,
     "task": false
    },
    "tags": []
   },
   "source": [
    "**Question 4.** Let's first create dataframes that are specific to the different subgroups of your sensitive variable.  First choose In the cell below, create the new dataframes `df_1` and `df_2` so that `df_1` holds all the rows that correspond to the first subgroup and `df_2` holds all the rows that correspond to the second subgroup. If there are more than 2 subgroups, find a way to categorize them into two categories. You may change the names so that it's more specific to your dataset."
   ]
  },
  {
   "cell_type": "code",
   "execution_count": 7,
   "metadata": {
    "deletable": false,
    "id": "J33m1a271yqF",
    "nbgrader": {
     "cell_type": "code",
     "checksum": "20cfdc829859f0aab1ddac8e8727f1c6",
     "grade": true,
     "grade_id": "cell-61ed970094d68f24",
     "locked": false,
     "points": 5,
     "schema_version": 3,
     "solution": true,
     "task": false
    }
   },
   "outputs": [
    {
     "name": "stdout",
     "output_type": "stream",
     "text": [
      "Shape of df_1 (Male):  (453, 8)\n",
      "Shape of df_2 (Female):  (259, 8)\n"
     ]
    },
    {
     "data": {
      "text/plain": [
       "(    Survived  Pclass   Sex   Age  SibSp  Parch     Fare Embarked\n",
       " 0          0       3  male  22.0      1      0   7.2500        S\n",
       " 4          0       3  male  35.0      0      0   8.0500        S\n",
       " 6          0       1  male  54.0      0      0  51.8625        S\n",
       " 7          0       3  male   2.0      3      1  21.0750        S\n",
       " 12         0       3  male  20.0      0      0   8.0500        S,\n",
       "    Survived  Pclass     Sex   Age  SibSp  Parch     Fare Embarked\n",
       " 1         1       1  female  38.0      1      0  71.2833        C\n",
       " 2         1       3  female  26.0      0      0   7.9250        S\n",
       " 3         1       1  female  35.0      1      0  53.1000        S\n",
       " 8         1       3  female  27.0      0      2  11.1333        S\n",
       " 9         1       2  female  14.0      1      0  30.0708        C)"
      ]
     },
     "execution_count": 7,
     "metadata": {},
     "output_type": "execute_result"
    }
   ],
   "source": [
    "# YOUR CODE HERE\n",
    "# Sensitive feature: 'Sex', with subgroups 'male' and 'female'\n",
    "\n",
    "# Create dataframes for the subgroups\n",
    "df_1 = df_cleaned[df_cleaned['Sex'] == 'male']    # Subgroup 1: Male\n",
    "df_2 = df_cleaned[df_cleaned['Sex'] == 'female']  # Subgroup 2: Female\n",
    "\n",
    "# Display the shape of each subgroup dataframe\n",
    "print(\"Shape of df_1 (Male): \", df_1.shape)\n",
    "print(\"Shape of df_2 (Female): \", df_2.shape)\n",
    "\n",
    "df_1.head(), df_2.head()\n"
   ]
  },
  {
   "cell_type": "markdown",
   "metadata": {
    "deletable": false,
    "editable": false,
    "id": "gdHtELIO1yqH",
    "nbgrader": {
     "cell_type": "markdown",
     "checksum": "7d3a9feaa3a7e0c1d5ef7371029ab91f",
     "grade": false,
     "grade_id": "cell-c6bb1f208ede838b",
     "locked": true,
     "schema_version": 3,
     "solution": false,
     "task": false
    }
   },
   "source": [
    "**Question 4.1.** Now we will plot histograms for these new dataframes.  The histogram will have the variable of interest (output varialbe) on the x axis, n bins corresponding to the n values possible. The y axis will be the _proportion_ of individuals of each subgroup that have that variable of interest.  So the y values for each subgroup will be the number of individuals having a given value divided by the total number of individuals of that subgroup.\n",
    "\n",
    "You can choose how you want to represent the histograms:  separate sub plots side by side, or all on one plot with different colours each, etc.  The axis limits should be same on both plots (same scale) and the plots should have appropriate titles, axis labels, and if needed a legend."
   ]
  },
  {
   "cell_type": "code",
   "execution_count": 8,
   "metadata": {
    "deletable": false,
    "id": "lwb8Lnjc1yqH",
    "nbgrader": {
     "cell_type": "code",
     "checksum": "958d2d2a30a95cc6a8b844a436cc3242",
     "grade": true,
     "grade_id": "cell-a7dbf4cfa6cfa7e2",
     "locked": false,
     "points": 10,
     "schema_version": 3,
     "solution": true,
     "task": false
    }
   },
   "outputs": [
    {
     "data": {
      "image/png": "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",
      "text/plain": [
       "<Figure size 1200x500 with 2 Axes>"
      ]
     },
     "metadata": {},
     "output_type": "display_data"
    }
   ],
   "source": [
    "# Calculate proportions for the histograms\n",
    "proportions_1 = df_1['Survived'].value_counts(normalize=True).sort_index()\n",
    "proportions_2 = df_2['Survived'].value_counts(normalize=True).sort_index()\n",
    "\n",
    "# Plot histograms\n",
    "fig, axes = plt.subplots(1, 2, figsize=(12, 5), sharey=True)\n",
    "\n",
    "# Subgroup 1: Male\n",
    "axes[0].bar(proportions_1.index, proportions_1.values, color='blue', alpha=0.7, label='Male')\n",
    "axes[0].set_title('Survival Distribution for Males')\n",
    "axes[0].set_xlabel('Survived')\n",
    "axes[0].set_ylabel('Proportion')\n",
    "axes[0].set_xticks([0, 1])\n",
    "axes[0].set_xticklabels(['0\\nDid Not Survive', '1\\nSurvived'])  # Add mini labels beneath the bars\n",
    "axes[0].legend()\n",
    "\n",
    "# Subgroup 2: Female\n",
    "axes[1].bar(proportions_2.index, proportions_2.values, color='red', alpha=0.7, label='Female')\n",
    "axes[1].set_title('Survival Distribution for Females')\n",
    "axes[1].set_xlabel('Survived')\n",
    "axes[1].set_xticks([0, 1])\n",
    "axes[1].set_xticklabels(['0\\nDid Not Survive', '1\\nSurvived'])  # Add mini labels beneath the bars\n",
    "axes[1].legend()\n",
    "\n",
    "# Set common y-axis limits\n",
    "axes[0].set_ylim(0, max(proportions_1.max(), proportions_2.max()) + 0.1)\n",
    "\n",
    "plt.tight_layout()\n",
    "plt.show()\n"
   ]
  },
  {
   "cell_type": "markdown",
   "metadata": {
    "deletable": false,
    "editable": false,
    "id": "4Jkd0_8idu44",
    "nbgrader": {
     "cell_type": "markdown",
     "checksum": "19c700876c31a9631d00853152d904d2",
     "grade": false,
     "grade_id": "cell-440b3e559210ad0e",
     "locked": true,
     "schema_version": 3,
     "solution": false,
     "task": false
    }
   },
   "source": [
    "**Question 4.2.** Describe the plots, especially any differences you see between them.  What does this tell you about the distribution of the variable of interest with respect to the sensitive feature?"
   ]
  },
  {
   "cell_type": "markdown",
   "metadata": {
    "deletable": false,
    "id": "aZiLZ2Fy1yqI",
    "nbgrader": {
     "cell_type": "markdown",
     "checksum": "91cfd4394c3563f0731fd249dab49572",
     "grade": true,
     "grade_id": "cell-7d4251c235f7bba7",
     "locked": false,
     "points": 5,
     "schema_version": 3,
     "solution": true,
     "task": false
    }
   },
   "source": [
    "The plots show the distribution of the variable of interest (survived) for the two subgroups of the sensitive feature (Sex):\n",
    "\n",
    "1. Survival distribution for males vs females:\n",
    "\n",
    "The majority of men did not survive (represented by the taller blue bar at 0), with a significantly smller portions of men surviving(shorter blue bar at 1). In contrast, a much larger porportion of females survived (taller red bar at 1) compared to those who did not survive(shorter bar at 0)\n",
    "\n",
    "2. Observations:\n",
    "\n",
    "The survival rates have a correlation to the sensitive feature \"sex.\" For males, the porportion of survival is much lower than non-survival. For females, the porportion of survival is much higher than non-survival.\n",
    "\n",
    "The distribution of the variable of interest (Survived) with respect to the sensitive feature (Sex) suggests a gender-based disparity in survival outcomes. Historically, this aligns with the \"women and children first\" evacuation protocol that was followed during the Titanic disaster.\n",
    "\n",
    "\n"
   ]
  },
  {
   "cell_type": "markdown",
   "metadata": {
    "deletable": false,
    "editable": false,
    "id": "LtLUKr8D1yqJ",
    "nbgrader": {
     "cell_type": "markdown",
     "checksum": "057d29d8917b9aa056ba0e3d29ce3266",
     "grade": false,
     "grade_id": "cell-6fbfd672d5be9c0b",
     "locked": true,
     "schema_version": 3,
     "solution": false,
     "task": false
    }
   },
   "source": [
    "We will now consider the second sensitive feature.  Follow the same steps as above."
   ]
  },
  {
   "cell_type": "markdown",
   "metadata": {
    "deletable": false,
    "editable": false,
    "id": "ArFMSbSM1yqJ",
    "nbgrader": {
     "cell_type": "markdown",
     "checksum": "bc19fcce851511e3ad8295d52b18c821",
     "grade": false,
     "grade_id": "cell-894dd6f08c7bc1de",
     "locked": true,
     "schema_version": 3,
     "solution": false,
     "task": false
    },
    "tags": []
   },
   "source": [
    "**Question 5.** Create dataframes that are specific to the subgroups for your second sensitive feature.  In the cell below, create the new dataframes `df_a` and `df_b` so that `df_a` holds all the rows that correspond to the first subgroup and `df_b` holds all the rows that correspond to the second subgroup. If there are more than 2 subgroups, find a way to categorize them into two categories. You may change the names so that it's more specific to your dataset."
   ]
  },
  {
   "cell_type": "code",
   "execution_count": 9,
   "metadata": {
    "deletable": false,
    "id": "umvtfb-T1yqK",
    "nbgrader": {
     "cell_type": "code",
     "checksum": "a44100339999e3133784650482205ebd",
     "grade": true,
     "grade_id": "cell-d0aaf9a2a0b3fb55",
     "locked": false,
     "points": 5,
     "schema_version": 3,
     "solution": true,
     "task": false
    }
   },
   "outputs": [
    {
     "name": "stdout",
     "output_type": "stream",
     "text": [
      "Shape of df_a (First Class):  (184, 8)\n",
      "Shape of df_b (Not First Class):  (528, 8)\n"
     ]
    },
    {
     "data": {
      "text/plain": [
       "(    Survived  Pclass     Sex   Age  SibSp  Parch     Fare Embarked\n",
       " 1          1       1  female  38.0      1      0  71.2833        C\n",
       " 3          1       1  female  35.0      1      0  53.1000        S\n",
       " 6          0       1    male  54.0      0      0  51.8625        S\n",
       " 11         1       1  female  58.0      0      0  26.5500        S\n",
       " 23         1       1    male  28.0      0      0  35.5000        S,\n",
       "    Survived  Pclass     Sex   Age  SibSp  Parch     Fare Embarked\n",
       " 0         0       3    male  22.0      1      0   7.2500        S\n",
       " 2         1       3  female  26.0      0      0   7.9250        S\n",
       " 4         0       3    male  35.0      0      0   8.0500        S\n",
       " 7         0       3    male   2.0      3      1  21.0750        S\n",
       " 8         1       3  female  27.0      0      2  11.1333        S)"
      ]
     },
     "execution_count": 9,
     "metadata": {},
     "output_type": "execute_result"
    }
   ],
   "source": [
    "# YOUR CODE HERE\n",
    "# Second sensitive feature: 'Pclass', with values 1, 2, and 3\n",
    "\n",
    "# Create dataframes for the subgroups\n",
    "df_a = df_cleaned[df_cleaned['Pclass'] == 1]  # Subgroup A: First Class\n",
    "df_b = df_cleaned[df_cleaned['Pclass'] != 1]  # Subgroup B: Not First Class (combining 2nd and 3rd Class)\n",
    "\n",
    "# Display the shape of each subgroup dataframe\n",
    "print(\"Shape of df_a (First Class): \", df_a.shape)\n",
    "print(\"Shape of df_b (Not First Class): \", df_b.shape)\n",
    "\n",
    "df_a.head(), df_b.head()\n"
   ]
  },
  {
   "cell_type": "markdown",
   "metadata": {
    "deletable": false,
    "editable": false,
    "id": "g7-3kHSO1yqL",
    "nbgrader": {
     "cell_type": "markdown",
     "checksum": "23d82963068d352b33f650774b14839d",
     "grade": false,
     "grade_id": "cell-ed4035e5b54cc333",
     "locked": true,
     "schema_version": 3,
     "solution": false,
     "task": false
    }
   },
   "source": [
    "**Question 5.1.** Now we will plot histograms for these new dataframes.  The histogram will have the variable of interest (output variable) on the x axis, n bins corresponding to the n values possible. The y axis will be the _proportion_ of individuals of each subgroup that have that variable of interest.  So the y values for each subgroup will be the number of individuals having a given value divided by the total number of individuals of that subgroup.\n",
    "\n",
    "You can choose how you want to represent the histograms:  separate sub plots side by side, or all on one plot with different colours each, etc.  The axis limits should be same on both plots (same scale) and the plots should have appropriate titles, axis labels, and if needed a legend."
   ]
  },
  {
   "cell_type": "code",
   "execution_count": 10,
   "metadata": {
    "deletable": false,
    "id": "e4pHpxGO1yqM",
    "nbgrader": {
     "cell_type": "code",
     "checksum": "9379714d32dd31c294222d64ca29e647",
     "grade": true,
     "grade_id": "cell-83a9e33c859463e5",
     "locked": false,
     "points": 10,
     "schema_version": 3,
     "solution": true,
     "task": false
    }
   },
   "outputs": [
    {
     "data": {
      "image/png": "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",
      "text/plain": [
       "<Figure size 1200x500 with 2 Axes>"
      ]
     },
     "metadata": {},
     "output_type": "display_data"
    }
   ],
   "source": [
    "# Define the subgroups based on Pclass\n",
    "df_a = df_cleaned[df_cleaned['Pclass'] == 1]  # Subgroup A: First Class\n",
    "df_b = df_cleaned[df_cleaned['Pclass'] != 1]  # Subgroup B: Not First Class (combining 2nd and 3rd Class)\n",
    "\n",
    "# Calculate proportions for the histograms\n",
    "proportions_a = df_a['Survived'].value_counts(normalize=True).sort_index()\n",
    "proportions_b = df_b['Survived'].value_counts(normalize=True).sort_index()\n",
    "\n",
    "# Plot histograms\n",
    "fig, axes = plt.subplots(1, 2, figsize=(12, 5), sharey=True)\n",
    "\n",
    "# Subgroup A: First Class\n",
    "axes[0].bar(proportions_a.index, proportions_a.values, color='green', alpha=0.7, label='First Class')\n",
    "axes[0].set_title('Survival Distribution for First Class')\n",
    "axes[0].set_xlabel('Survived (0 = Did Not Survive, 1 = Survived)')\n",
    "axes[0].set_ylabel('Proportion')\n",
    "axes[0].set_xticks([0, 1])\n",
    "axes[0].set_xticklabels(['0\\nDid Not Survive', '1\\nSurvived'])  # Add mini labels beneath the bars\n",
    "axes[0].legend()\n",
    "\n",
    "# Subgroup B: Not First Class\n",
    "axes[1].bar(proportions_b.index, proportions_b.values, color='orange', alpha=0.7, label='Not First Class')\n",
    "axes[1].set_title('Survival Distribution for Not First Class')\n",
    "axes[1].set_xlabel('Survived (0 = Did Not Survive, 1 = Survived)')\n",
    "axes[1].set_xticks([0, 1])\n",
    "axes[1].set_xticklabels(['0\\nDid Not Survive', '1\\nSurvived'])  # Add mini labels beneath the bars\n",
    "axes[1].legend()\n",
    "\n",
    "# Set common y-axis limits\n",
    "axes[0].set_ylim(0, max(proportions_a.max(), proportions_b.max()) + 0.1)\n",
    "\n",
    "plt.tight_layout()\n",
    "plt.show()\n"
   ]
  },
  {
   "cell_type": "markdown",
   "metadata": {
    "deletable": false,
    "editable": false,
    "id": "xr4Qd9zMdu45",
    "nbgrader": {
     "cell_type": "markdown",
     "checksum": "09a57e5ff33fee604224b5dc263991bb",
     "grade": false,
     "grade_id": "cell-f4cd68e7997d274e",
     "locked": true,
     "schema_version": 3,
     "solution": false,
     "task": false
    }
   },
   "source": [
    "**Question 5.2.** Describe the two plots, especially any differences you see between them.  What does this tell you about the distribution of the variable of interest with respect to the second sensitive feature?"
   ]
  },
  {
   "cell_type": "markdown",
   "metadata": {
    "deletable": false,
    "id": "8A7JNq8A1yqM",
    "nbgrader": {
     "cell_type": "markdown",
     "checksum": "4902394fb6f9b7b1b4f1a7620be5aafc",
     "grade": true,
     "grade_id": "cell-99474d3674e9ddc6",
     "locked": false,
     "points": 5,
     "schema_version": 3,
     "solution": true,
     "task": false
    }
   },
   "source": [
    "The plots show the distribution of the variable of interest (survived) for the two subgroups of the second sensitive feature (Pclass):\n",
    "\n",
    "1. Survival distribution for First Class vs Not First Class\n",
    "\n",
    "A significantly higher porportion of passengers with the sensitive feature \"Pclass\" of being First Class survived (taller green bar at 1), while a smaller porportion of passengers in First Class that did not survive (shorter green bar at 0).\n",
    "\n",
    "In contrast, the porportion of passengers who did not survive is noticeably higher for those \"Not First Class,\" for the \"Pclass\" sensitive feature (taller yellow bar at 0), with the survived porportion being much lower (shorter yellow bar at 1).\n",
    "\n",
    "2. Observations:\n",
    "\n",
    "Survival rates are much higher of those in first class compared to those of non-first class. This suggests that there is a correlation between the variable of interest (Survival) and the sensitive feature \"Pclass.\" In historical context, passengers of second and third class likely had fewer opportunities to access life boats, reflecting a social class disparity during the time of the event. \n",
    "\n",
    "\n"
   ]
  },
  {
   "cell_type": "markdown",
   "metadata": {
    "deletable": false,
    "editable": false,
    "id": "nh2yQ1JN1yqN",
    "nbgrader": {
     "cell_type": "markdown",
     "checksum": "c046cb85e0bc08657b360cbb9d065a0b",
     "grade": false,
     "grade_id": "cell-0101107d18b96ba2",
     "locked": true,
     "schema_version": 3,
     "solution": false,
     "task": false
    }
   },
   "source": [
    "## Fairness / Bias in the Dataset\n",
    "\n",
    "Now we will develop our own logistic regression model to predict the output given the data and see how it does with respect to fairness metrics.\n",
    "\n",
    "#### Pre-processing\n",
    "We first have some preprocessing to do.\n",
    "\n",
    "Logistic regression is used here as a classification algorithm, so it will give binary outputs. We will use `sklearn`'s logistic regression model which takes numerical input.  Your dataset's features may be categorical variables. If this is the case, we will have to convert the categorical features to numerical features.  We will use [one-hot encoding](https://scikit-learn.org/stable/modules/generated/sklearn.preprocessing.OneHotEncoder.html) for this."
   ]
  },
  {
   "cell_type": "markdown",
   "metadata": {
    "deletable": false,
    "editable": false,
    "id": "eVqdKoI-1yqN",
    "nbgrader": {
     "cell_type": "markdown",
     "checksum": "04915aa47dcd1cfc2a5d0a582a924d20",
     "grade": false,
     "grade_id": "cell-fc7e38607fd6f1f2",
     "locked": true,
     "schema_version": 3,
     "solution": false,
     "task": false
    }
   },
   "source": [
    "**Question 6.** Let's first set up a dataframe for the label, or target values. In the cell below extract that column into a separate dataframe, our target dataframe. Assign your answer to the variable `Y`."
   ]
  },
  {
   "cell_type": "code",
   "execution_count": null,
   "metadata": {
    "deletable": false,
    "id": "VqUicv3Q1yqO",
    "nbgrader": {
     "cell_type": "code",
     "checksum": "681a818bfd9243747bec388c76b82810",
     "grade": false,
     "grade_id": "cell-20fa0ca8b24be477",
     "locked": false,
     "schema_version": 3,
     "solution": true,
     "task": false
    }
   },
   "outputs": [
    {
     "name": "stdout",
     "output_type": "stream",
     "text": [
      "   Survived\n",
      "0         0\n",
      "1         1\n",
      "2         1\n",
      "3         1\n",
      "4         0\n"
     ]
    }
   ],
   "source": [
    "# YOUR CODE HERE\n",
    "# raise NotImplementedError()\n",
    "Y = df_cleaned[['Survived']] \n",
    "print(Y.head())"
   ]
  },
  {
   "cell_type": "markdown",
   "metadata": {
    "deletable": false,
    "editable": false,
    "id": "yAxxScmG1yqP",
    "nbgrader": {
     "cell_type": "markdown",
     "checksum": "d793213d313468763bfafee60a5839c4",
     "grade": false,
     "grade_id": "cell-8587895ae41a257f",
     "locked": true,
     "schema_version": 3,
     "solution": false,
     "task": false
    }
   },
   "source": [
    "**Question 6.1.** Now Let's set up the remaining data. Create another dataframe named `X` that contains every column *except* the target column."
   ]
  },
  {
   "cell_type": "code",
   "execution_count": 12,
   "metadata": {
    "deletable": false,
    "id": "58R7BDGG1yqP",
    "nbgrader": {
     "cell_type": "code",
     "checksum": "f0b05ea2cd776cf753771e716eec79f3",
     "grade": false,
     "grade_id": "cell-42475005b8da1aa4",
     "locked": false,
     "schema_version": 3,
     "solution": true,
     "task": false
    }
   },
   "outputs": [
    {
     "name": "stdout",
     "output_type": "stream",
     "text": [
      "   Pclass     Sex   Age  SibSp  Parch     Fare Embarked\n",
      "0       3    male  22.0      1      0   7.2500        S\n",
      "1       1  female  38.0      1      0  71.2833        C\n",
      "2       3  female  26.0      0      0   7.9250        S\n",
      "3       1  female  35.0      1      0  53.1000        S\n",
      "4       3    male  35.0      0      0   8.0500        S\n"
     ]
    }
   ],
   "source": [
    "# YOUR CODE HERE\n",
    "# raise NotImplementedError()\n",
    "X = df_cleaned.drop(columns=['Survived'])\n",
    "print(X.head())"
   ]
  },
  {
   "cell_type": "markdown",
   "metadata": {
    "deletable": false,
    "editable": false,
    "id": "52wJ-NZ51yqP",
    "nbgrader": {
     "cell_type": "markdown",
     "checksum": "cde05da30ae69b97b439f051d9caabb4",
     "grade": false,
     "grade_id": "cell-4b8bcb608ae72bc4",
     "locked": true,
     "schema_version": 3,
     "solution": false,
     "task": false
    }
   },
   "source": [
    "**Question 6.2.** Your analysis should only contain the features that you deem necessary. In the next cell, retain only these columns in our features dataframe `X`."
   ]
  },
  {
   "cell_type": "code",
   "execution_count": 13,
   "metadata": {
    "deletable": false,
    "id": "XMFXsmAw1yqQ",
    "nbgrader": {
     "cell_type": "code",
     "checksum": "c3ba8130bf4651e37bcef61a714a5ceb",
     "grade": true,
     "grade_id": "cell-47a97f9a59a2347d",
     "locked": false,
     "points": 5,
     "schema_version": 3,
     "solution": true,
     "task": false
    }
   },
   "outputs": [
    {
     "name": "stdout",
     "output_type": "stream",
     "text": [
      "   Pclass     Sex   Age  SibSp  Parch     Fare Embarked\n",
      "0       3    male  22.0      1      0   7.2500        S\n",
      "1       1  female  38.0      1      0  71.2833        C\n",
      "2       3  female  26.0      0      0   7.9250        S\n",
      "3       1  female  35.0      1      0  53.1000        S\n",
      "4       3    male  35.0      0      0   8.0500        S\n"
     ]
    }
   ],
   "source": [
    "# cols_retain = []\n",
    "# YOUR CODE HERE\n",
    "cols_retain = ['Pclass', 'Sex', 'Age', 'SibSp', 'Parch', 'Fare', 'Embarked']  \n",
    "\n",
    "# Retain only these columns in X\n",
    "X = X[cols_retain]\n",
    "\n",
    "# Display the first few rows to verify\n",
    "print(X.head())\n",
    "# raise NotImplementedError()"
   ]
  },
  {
   "cell_type": "markdown",
   "metadata": {
    "deletable": false,
    "editable": false,
    "id": "08t8kLNh1yqQ",
    "nbgrader": {
     "cell_type": "markdown",
     "checksum": "430bd9a4988031db9cc202ee1e3a21df",
     "grade": false,
     "grade_id": "cell-f0e29759c74524ff",
     "locked": true,
     "schema_version": 3,
     "solution": false,
     "task": false
    }
   },
   "source": [
    "Since we will use `sklearn`'s logistic regression model, we need all our data to be numerical values.  Let's first examine the column types.\n",
    "\n",
    "Run the following cell to examine the data."
   ]
  },
  {
   "cell_type": "code",
   "execution_count": 14,
   "metadata": {
    "deletable": false,
    "editable": false,
    "id": "WodTHVVd1yqR",
    "nbgrader": {
     "cell_type": "code",
     "checksum": "64fe12ebfc10eb11a5969625051db470",
     "grade": false,
     "grade_id": "cell-b696a2c36afd0ea2",
     "locked": true,
     "schema_version": 3,
     "solution": false,
     "task": false
    }
   },
   "outputs": [
    {
     "data": {
      "text/plain": [
       "Pclass        int64\n",
       "Sex          object\n",
       "Age         float64\n",
       "SibSp         int64\n",
       "Parch         int64\n",
       "Fare        float64\n",
       "Embarked     object\n",
       "dtype: object"
      ]
     },
     "execution_count": 14,
     "metadata": {},
     "output_type": "execute_result"
    }
   ],
   "source": [
    "X.dtypes"
   ]
  },
  {
   "cell_type": "markdown",
   "metadata": {
    "deletable": false,
    "editable": false,
    "id": "X-cRVK7H1yqR",
    "nbgrader": {
     "cell_type": "markdown",
     "checksum": "73f22e4eb924fef40f36a8a06df9dd6a",
     "grade": false,
     "grade_id": "cell-6dd9b6e50e56f508",
     "locked": true,
     "schema_version": 3,
     "solution": false,
     "task": false
    }
   },
   "source": [
    "**Question 6.3.** A data type of `object` indicates that the column is categorical.  We will need to convert these to numerical.  We will use one hot encoding on the categorical features. We first separate the numerical and categorical featues using `selector`.  Then we transform the categorial features using one hot encoding and we normalize the numerical features using a scalar.  See for instance here for help on this step: <https://scikit-learn.org/stable/auto_examples/compose/plot_column_transformer_mixed_types.html#sphx-glr-auto-examples-compose-plot-column-transformer-mixed-types-py>"
   ]
  },
  {
   "cell_type": "code",
   "execution_count": 70,
   "metadata": {
    "deletable": false,
    "id": "FMiEcLmQ1yqR",
    "nbgrader": {
     "cell_type": "code",
     "checksum": "2ab2534c479a3fcffef408009b7f0cb2",
     "grade": true,
     "grade_id": "cell-de2621bfb172db96",
     "locked": false,
     "points": 10,
     "schema_version": 3,
     "solution": true,
     "task": false
    }
   },
   "outputs": [
    {
     "name": "stdout",
     "output_type": "stream",
     "text": [
      "     Pclass       Age     SibSp     Parch      Fare  Sex_female  Sex_male  \\\n",
      "0  0.908600 -0.527669  0.522511 -0.506787 -0.516380         0.0       1.0   \n",
      "1 -1.482983  0.577094  0.522511 -0.506787  0.694046         1.0       0.0   \n",
      "2  0.908600 -0.251478 -0.552714 -0.506787 -0.503620         1.0       0.0   \n",
      "3 -1.482983  0.369951  0.522511 -0.506787  0.350326         1.0       0.0   \n",
      "4  0.908600  0.369951 -0.552714 -0.506787 -0.501257         0.0       1.0   \n",
      "\n",
      "   Embarked_C  Embarked_Q  Embarked_S  \n",
      "0         0.0         0.0         1.0  \n",
      "1         1.0         0.0         0.0  \n",
      "2         0.0         0.0         1.0  \n",
      "3         0.0         0.0         1.0  \n",
      "4         0.0         0.0         1.0  \n"
     ]
    }
   ],
   "source": [
    "# we will need the following modules\n",
    "from sklearn.compose import make_column_selector as selector\n",
    "from sklearn.preprocessing import OneHotEncoder, StandardScaler\n",
    "from sklearn.compose import ColumnTransformer\n",
    "\n",
    "# YOUR CODE HERE\n",
    "# raise NotImplementedError()\n",
    "Y = df_cleaned['Survived']  \n",
    "X = df_cleaned.drop(columns=['Survived']) \n",
    "\n",
    "categorical_cols = ['Sex', 'Embarked']\n",
    "numerical_cols = ['Pclass', 'Age', 'SibSp', 'Parch', 'Fare']\n",
    "\n",
    "categorical_transformer = OneHotEncoder(handle_unknown='ignore')\n",
    "numerical_transformer = StandardScaler()\n",
    "\n",
    "# Column transformer for preprocessing\n",
    "preprocessor = ColumnTransformer(\n",
    "    transformers=[\n",
    "        ('num', numerical_transformer, numerical_cols),\n",
    "        ('cat', categorical_transformer, categorical_cols)\n",
    "    ]\n",
    ")\n",
    "\n",
    "# Preprocess the features\n",
    "X_preprocessed = preprocessor.fit_transform(X)\n",
    "\n",
    "# Convert back to a dataframe for compatibility\n",
    "encoded_categorical_cols = preprocessor.named_transformers_['cat'].get_feature_names_out(categorical_cols)\n",
    "all_feature_names = numerical_cols + list(encoded_categorical_cols)\n",
    "X_preprocessed_df = pd.DataFrame(X_preprocessed, columns=all_feature_names)\n",
    "\n",
    "sensitive_features = ['Pclass', 'Age', 'SibSp', 'Parch', 'Fare', 'Sex_female', 'Sex_male', 'Embarked_C', 'Embarked_Q', 'Embarked_S']\n",
    "\n",
    "print(X_preprocessed_df.head())\n",
    "# categorical_cols = selector(dtype_include='object')(X)\n",
    "\n",
    "# numerical_cols = selector(dtype_include=['int64', 'float64'])(X)\n",
    "\n",
    "\n",
    "# categorical_transformer = OneHotEncoder(handle_unknown='ignore')  \n",
    "# numerical_transformer = StandardScaler()  \n",
    "\n",
    "# preprocessor = ColumnTransformer(\n",
    "#     transformers=[\n",
    "#         ('num', numerical_transformer, numerical_cols),  \n",
    "#         ('cat', categorical_transformer, categorical_cols)  \n",
    "#     ]\n",
    "# )\n",
    "\n",
    "# X_preprocessed = preprocessor.fit_transform(X)\n",
    "\n",
    "# encoded_categorical_cols = preprocessor.named_transformers_['cat'].get_feature_names_out(categorical_cols)\n",
    "# all_feature_names = numerical_cols + list(encoded_categorical_cols) \n",
    "\n",
    "# X_preprocessed_df = pd.DataFrame(X_preprocessed, columns=all_feature_names)\n",
    "\n",
    "# print(X_preprocessed_df.head())"
   ]
  },
  {
   "cell_type": "markdown",
   "metadata": {
    "deletable": false,
    "editable": false,
    "id": "hWYXthRN1yqT",
    "nbgrader": {
     "cell_type": "markdown",
     "checksum": "3a07d8c496379c4534c9de0f03bba670",
     "grade": false,
     "grade_id": "cell-4e6337d1c7743414",
     "locked": true,
     "schema_version": 3,
     "solution": false,
     "task": false
    }
   },
   "source": [
    "**Question 6.4.** Now we set up the pipeline for our model.  You can refer to the url provided above for help with this step.  You may also need to set `max_iter` to make sure the model converges. Assign your answer to the variable `model`.\n"
   ]
  },
  {
   "cell_type": "code",
   "execution_count": 81,
   "metadata": {
    "deletable": false,
    "id": "_ecpohDU1yqT",
    "nbgrader": {
     "cell_type": "code",
     "checksum": "ac348c9a0d94511ec6cb3b50ec88ab14",
     "grade": true,
     "grade_id": "cell-49c6d3a04670e438",
     "locked": false,
     "points": 6,
     "schema_version": 3,
     "solution": true,
     "task": false
    }
   },
   "outputs": [
    {
     "name": "stdout",
     "output_type": "stream",
     "text": [
      "Pipeline(steps=[('preprocessor',\n",
      "                 ColumnTransformer(transformers=[('num', StandardScaler(),\n",
      "                                                  <sklearn.compose._column_transformer.make_column_selector object at 0x0000022D90557CA0>),\n",
      "                                                 ('cat', OneHotEncoder(),\n",
      "                                                  <sklearn.compose._column_transformer.make_column_selector object at 0x0000022D905579D0>)])),\n",
      "                ('classifier', LogisticRegression(max_iter=1000))])\n"
     ]
    }
   ],
   "source": [
    "# make sure you import the models needed for this step\n",
    "# YOUR CODE HERE\n",
    "# raise NotImplementedError()\n",
    "# Import necessary libraries\n",
    "from sklearn.pipeline import Pipeline\n",
    "from sklearn.linear_model import LogisticRegression\n",
    "from sklearn.compose import ColumnTransformer\n",
    "from sklearn.preprocessing import StandardScaler, OneHotEncoder\n",
    "from sklearn.model_selection import train_test_split\n",
    "\n",
    "# Define your features\n",
    "categorical_features = selector(dtype_include='object')\n",
    "numerical_features = selector(dtype_include='number')\n",
    "\n",
    "# Set up the preprocessor\n",
    "preprocessor = ColumnTransformer(\n",
    "    transformers=[\n",
    "        ('num', StandardScaler(), numerical_features),\n",
    "        ('cat', OneHotEncoder(), categorical_features)\n",
    "    ])\n",
    "\n",
    "# Define the model pipeline\n",
    "model = Pipeline(steps=[\n",
    "    ('preprocessor', preprocessor),  \n",
    "    ('classifier', LogisticRegression(max_iter=1000))  \n",
    "])\n",
    "\n",
    "print(model)\n",
    "\n",
    "\n"
   ]
  },
  {
   "cell_type": "markdown",
   "metadata": {
    "deletable": false,
    "editable": false,
    "id": "CvFxidXx1yqU",
    "nbgrader": {
     "cell_type": "markdown",
     "checksum": "58346e7f0e368a0f54aa5db9917d64b8",
     "grade": false,
     "grade_id": "cell-eb81c8126be6d5e7",
     "locked": true,
     "schema_version": 3,
     "solution": false,
     "task": false
    }
   },
   "source": [
    "**Question 6.5.** Now split your dataset into train and test datasets, with the test set being 25% of the whole dataset. Assign your answers to `X_train`, `X_test`, `Y_train`, `Y_test`."
   ]
  },
  {
   "cell_type": "code",
   "execution_count": 76,
   "metadata": {
    "deletable": false,
    "id": "0uDUKdrx1yqU",
    "nbgrader": {
     "cell_type": "code",
     "checksum": "4c6d64338ed103b520e6aaa6f8af3e55",
     "grade": true,
     "grade_id": "cell-5d3b4432548625fa",
     "locked": false,
     "points": 5,
     "schema_version": 3,
     "solution": true,
     "task": false
    }
   },
   "outputs": [
    {
     "name": "stdout",
     "output_type": "stream",
     "text": [
      "X_train shape: (534, 10)\n",
      "X_test shape: (178, 10)\n",
      "Y_train shape: (534,)\n",
      "Y_test shape: (178,)\n"
     ]
    }
   ],
   "source": [
    "# import the module\n",
    "from sklearn.model_selection import train_test_split\n",
    "\n",
    "# YOUR CODE HERE\n",
    "# raise NotImplementedError()\n",
    "X_train, X_test, Y_train, Y_test = train_test_split(X_preprocessed_df, Y, test_size=0.25, random_state=42)\n",
    "\n",
    "print(f\"X_train shape: {X_train.shape}\")\n",
    "print(f\"X_test shape: {X_test.shape}\")\n",
    "print(f\"Y_train shape: {Y_train.shape}\")\n",
    "print(f\"Y_test shape: {Y_test.shape}\")"
   ]
  },
  {
   "cell_type": "code",
   "execution_count": 82,
   "metadata": {
    "deletable": false,
    "editable": false,
    "id": "sbkv-ODH1yqV",
    "nbgrader": {
     "cell_type": "code",
     "checksum": "2c53cd998ae0744f1b11a96860d0c23e",
     "grade": false,
     "grade_id": "cell-bba9505f8fc2af6a",
     "locked": true,
     "schema_version": 3,
     "solution": false,
     "task": false
    }
   },
   "outputs": [
    {
     "data": {
      "text/html": [
       "<style>#sk-container-id-2 {\n",
       "  /* Definition of color scheme common for light and dark mode */\n",
       "  --sklearn-color-text: black;\n",
       "  --sklearn-color-line: gray;\n",
       "  /* Definition of color scheme for unfitted estimators */\n",
       "  --sklearn-color-unfitted-level-0: #fff5e6;\n",
       "  --sklearn-color-unfitted-level-1: #f6e4d2;\n",
       "  --sklearn-color-unfitted-level-2: #ffe0b3;\n",
       "  --sklearn-color-unfitted-level-3: chocolate;\n",
       "  /* Definition of color scheme for fitted estimators */\n",
       "  --sklearn-color-fitted-level-0: #f0f8ff;\n",
       "  --sklearn-color-fitted-level-1: #d4ebff;\n",
       "  --sklearn-color-fitted-level-2: #b3dbfd;\n",
       "  --sklearn-color-fitted-level-3: cornflowerblue;\n",
       "\n",
       "  /* Specific color for light theme */\n",
       "  --sklearn-color-text-on-default-background: var(--sg-text-color, var(--theme-code-foreground, var(--jp-content-font-color1, black)));\n",
       "  --sklearn-color-background: var(--sg-background-color, var(--theme-background, var(--jp-layout-color0, white)));\n",
       "  --sklearn-color-border-box: var(--sg-text-color, var(--theme-code-foreground, var(--jp-content-font-color1, black)));\n",
       "  --sklearn-color-icon: #696969;\n",
       "\n",
       "  @media (prefers-color-scheme: dark) {\n",
       "    /* Redefinition of color scheme for dark theme */\n",
       "    --sklearn-color-text-on-default-background: var(--sg-text-color, var(--theme-code-foreground, var(--jp-content-font-color1, white)));\n",
       "    --sklearn-color-background: var(--sg-background-color, var(--theme-background, var(--jp-layout-color0, #111)));\n",
       "    --sklearn-color-border-box: var(--sg-text-color, var(--theme-code-foreground, var(--jp-content-font-color1, white)));\n",
       "    --sklearn-color-icon: #878787;\n",
       "  }\n",
       "}\n",
       "\n",
       "#sk-container-id-2 {\n",
       "  color: var(--sklearn-color-text);\n",
       "}\n",
       "\n",
       "#sk-container-id-2 pre {\n",
       "  padding: 0;\n",
       "}\n",
       "\n",
       "#sk-container-id-2 input.sk-hidden--visually {\n",
       "  border: 0;\n",
       "  clip: rect(1px 1px 1px 1px);\n",
       "  clip: rect(1px, 1px, 1px, 1px);\n",
       "  height: 1px;\n",
       "  margin: -1px;\n",
       "  overflow: hidden;\n",
       "  padding: 0;\n",
       "  position: absolute;\n",
       "  width: 1px;\n",
       "}\n",
       "\n",
       "#sk-container-id-2 div.sk-dashed-wrapped {\n",
       "  border: 1px dashed var(--sklearn-color-line);\n",
       "  margin: 0 0.4em 0.5em 0.4em;\n",
       "  box-sizing: border-box;\n",
       "  padding-bottom: 0.4em;\n",
       "  background-color: var(--sklearn-color-background);\n",
       "}\n",
       "\n",
       "#sk-container-id-2 div.sk-container {\n",
       "  /* jupyter's `normalize.less` sets `[hidden] { display: none; }`\n",
       "     but bootstrap.min.css set `[hidden] { display: none !important; }`\n",
       "     so we also need the `!important` here to be able to override the\n",
       "     default hidden behavior on the sphinx rendered scikit-learn.org.\n",
       "     See: https://github.com/scikit-learn/scikit-learn/issues/21755 */\n",
       "  display: inline-block !important;\n",
       "  position: relative;\n",
       "}\n",
       "\n",
       "#sk-container-id-2 div.sk-text-repr-fallback {\n",
       "  display: none;\n",
       "}\n",
       "\n",
       "div.sk-parallel-item,\n",
       "div.sk-serial,\n",
       "div.sk-item {\n",
       "  /* draw centered vertical line to link estimators */\n",
       "  background-image: linear-gradient(var(--sklearn-color-text-on-default-background), var(--sklearn-color-text-on-default-background));\n",
       "  background-size: 2px 100%;\n",
       "  background-repeat: no-repeat;\n",
       "  background-position: center center;\n",
       "}\n",
       "\n",
       "/* Parallel-specific style estimator block */\n",
       "\n",
       "#sk-container-id-2 div.sk-parallel-item::after {\n",
       "  content: \"\";\n",
       "  width: 100%;\n",
       "  border-bottom: 2px solid var(--sklearn-color-text-on-default-background);\n",
       "  flex-grow: 1;\n",
       "}\n",
       "\n",
       "#sk-container-id-2 div.sk-parallel {\n",
       "  display: flex;\n",
       "  align-items: stretch;\n",
       "  justify-content: center;\n",
       "  background-color: var(--sklearn-color-background);\n",
       "  position: relative;\n",
       "}\n",
       "\n",
       "#sk-container-id-2 div.sk-parallel-item {\n",
       "  display: flex;\n",
       "  flex-direction: column;\n",
       "}\n",
       "\n",
       "#sk-container-id-2 div.sk-parallel-item:first-child::after {\n",
       "  align-self: flex-end;\n",
       "  width: 50%;\n",
       "}\n",
       "\n",
       "#sk-container-id-2 div.sk-parallel-item:last-child::after {\n",
       "  align-self: flex-start;\n",
       "  width: 50%;\n",
       "}\n",
       "\n",
       "#sk-container-id-2 div.sk-parallel-item:only-child::after {\n",
       "  width: 0;\n",
       "}\n",
       "\n",
       "/* Serial-specific style estimator block */\n",
       "\n",
       "#sk-container-id-2 div.sk-serial {\n",
       "  display: flex;\n",
       "  flex-direction: column;\n",
       "  align-items: center;\n",
       "  background-color: var(--sklearn-color-background);\n",
       "  padding-right: 1em;\n",
       "  padding-left: 1em;\n",
       "}\n",
       "\n",
       "\n",
       "/* Toggleable style: style used for estimator/Pipeline/ColumnTransformer box that is\n",
       "clickable and can be expanded/collapsed.\n",
       "- Pipeline and ColumnTransformer use this feature and define the default style\n",
       "- Estimators will overwrite some part of the style using the `sk-estimator` class\n",
       "*/\n",
       "\n",
       "/* Pipeline and ColumnTransformer style (default) */\n",
       "\n",
       "#sk-container-id-2 div.sk-toggleable {\n",
       "  /* Default theme specific background. It is overwritten whether we have a\n",
       "  specific estimator or a Pipeline/ColumnTransformer */\n",
       "  background-color: var(--sklearn-color-background);\n",
       "}\n",
       "\n",
       "/* Toggleable label */\n",
       "#sk-container-id-2 label.sk-toggleable__label {\n",
       "  cursor: pointer;\n",
       "  display: block;\n",
       "  width: 100%;\n",
       "  margin-bottom: 0;\n",
       "  padding: 0.5em;\n",
       "  box-sizing: border-box;\n",
       "  text-align: center;\n",
       "}\n",
       "\n",
       "#sk-container-id-2 label.sk-toggleable__label-arrow:before {\n",
       "  /* Arrow on the left of the label */\n",
       "  content: \"▸\";\n",
       "  float: left;\n",
       "  margin-right: 0.25em;\n",
       "  color: var(--sklearn-color-icon);\n",
       "}\n",
       "\n",
       "#sk-container-id-2 label.sk-toggleable__label-arrow:hover:before {\n",
       "  color: var(--sklearn-color-text);\n",
       "}\n",
       "\n",
       "/* Toggleable content - dropdown */\n",
       "\n",
       "#sk-container-id-2 div.sk-toggleable__content {\n",
       "  max-height: 0;\n",
       "  max-width: 0;\n",
       "  overflow: hidden;\n",
       "  text-align: left;\n",
       "  /* unfitted */\n",
       "  background-color: var(--sklearn-color-unfitted-level-0);\n",
       "}\n",
       "\n",
       "#sk-container-id-2 div.sk-toggleable__content.fitted {\n",
       "  /* fitted */\n",
       "  background-color: var(--sklearn-color-fitted-level-0);\n",
       "}\n",
       "\n",
       "#sk-container-id-2 div.sk-toggleable__content pre {\n",
       "  margin: 0.2em;\n",
       "  border-radius: 0.25em;\n",
       "  color: var(--sklearn-color-text);\n",
       "  /* unfitted */\n",
       "  background-color: var(--sklearn-color-unfitted-level-0);\n",
       "}\n",
       "\n",
       "#sk-container-id-2 div.sk-toggleable__content.fitted pre {\n",
       "  /* unfitted */\n",
       "  background-color: var(--sklearn-color-fitted-level-0);\n",
       "}\n",
       "\n",
       "#sk-container-id-2 input.sk-toggleable__control:checked~div.sk-toggleable__content {\n",
       "  /* Expand drop-down */\n",
       "  max-height: 200px;\n",
       "  max-width: 100%;\n",
       "  overflow: auto;\n",
       "}\n",
       "\n",
       "#sk-container-id-2 input.sk-toggleable__control:checked~label.sk-toggleable__label-arrow:before {\n",
       "  content: \"▾\";\n",
       "}\n",
       "\n",
       "/* Pipeline/ColumnTransformer-specific style */\n",
       "\n",
       "#sk-container-id-2 div.sk-label input.sk-toggleable__control:checked~label.sk-toggleable__label {\n",
       "  color: var(--sklearn-color-text);\n",
       "  background-color: var(--sklearn-color-unfitted-level-2);\n",
       "}\n",
       "\n",
       "#sk-container-id-2 div.sk-label.fitted input.sk-toggleable__control:checked~label.sk-toggleable__label {\n",
       "  background-color: var(--sklearn-color-fitted-level-2);\n",
       "}\n",
       "\n",
       "/* Estimator-specific style */\n",
       "\n",
       "/* Colorize estimator box */\n",
       "#sk-container-id-2 div.sk-estimator input.sk-toggleable__control:checked~label.sk-toggleable__label {\n",
       "  /* unfitted */\n",
       "  background-color: var(--sklearn-color-unfitted-level-2);\n",
       "}\n",
       "\n",
       "#sk-container-id-2 div.sk-estimator.fitted input.sk-toggleable__control:checked~label.sk-toggleable__label {\n",
       "  /* fitted */\n",
       "  background-color: var(--sklearn-color-fitted-level-2);\n",
       "}\n",
       "\n",
       "#sk-container-id-2 div.sk-label label.sk-toggleable__label,\n",
       "#sk-container-id-2 div.sk-label label {\n",
       "  /* The background is the default theme color */\n",
       "  color: var(--sklearn-color-text-on-default-background);\n",
       "}\n",
       "\n",
       "/* On hover, darken the color of the background */\n",
       "#sk-container-id-2 div.sk-label:hover label.sk-toggleable__label {\n",
       "  color: var(--sklearn-color-text);\n",
       "  background-color: var(--sklearn-color-unfitted-level-2);\n",
       "}\n",
       "\n",
       "/* Label box, darken color on hover, fitted */\n",
       "#sk-container-id-2 div.sk-label.fitted:hover label.sk-toggleable__label.fitted {\n",
       "  color: var(--sklearn-color-text);\n",
       "  background-color: var(--sklearn-color-fitted-level-2);\n",
       "}\n",
       "\n",
       "/* Estimator label */\n",
       "\n",
       "#sk-container-id-2 div.sk-label label {\n",
       "  font-family: monospace;\n",
       "  font-weight: bold;\n",
       "  display: inline-block;\n",
       "  line-height: 1.2em;\n",
       "}\n",
       "\n",
       "#sk-container-id-2 div.sk-label-container {\n",
       "  text-align: center;\n",
       "}\n",
       "\n",
       "/* Estimator-specific */\n",
       "#sk-container-id-2 div.sk-estimator {\n",
       "  font-family: monospace;\n",
       "  border: 1px dotted var(--sklearn-color-border-box);\n",
       "  border-radius: 0.25em;\n",
       "  box-sizing: border-box;\n",
       "  margin-bottom: 0.5em;\n",
       "  /* unfitted */\n",
       "  background-color: var(--sklearn-color-unfitted-level-0);\n",
       "}\n",
       "\n",
       "#sk-container-id-2 div.sk-estimator.fitted {\n",
       "  /* fitted */\n",
       "  background-color: var(--sklearn-color-fitted-level-0);\n",
       "}\n",
       "\n",
       "/* on hover */\n",
       "#sk-container-id-2 div.sk-estimator:hover {\n",
       "  /* unfitted */\n",
       "  background-color: var(--sklearn-color-unfitted-level-2);\n",
       "}\n",
       "\n",
       "#sk-container-id-2 div.sk-estimator.fitted:hover {\n",
       "  /* fitted */\n",
       "  background-color: var(--sklearn-color-fitted-level-2);\n",
       "}\n",
       "\n",
       "/* Specification for estimator info (e.g. \"i\" and \"?\") */\n",
       "\n",
       "/* Common style for \"i\" and \"?\" */\n",
       "\n",
       ".sk-estimator-doc-link,\n",
       "a:link.sk-estimator-doc-link,\n",
       "a:visited.sk-estimator-doc-link {\n",
       "  float: right;\n",
       "  font-size: smaller;\n",
       "  line-height: 1em;\n",
       "  font-family: monospace;\n",
       "  background-color: var(--sklearn-color-background);\n",
       "  border-radius: 1em;\n",
       "  height: 1em;\n",
       "  width: 1em;\n",
       "  text-decoration: none !important;\n",
       "  margin-left: 1ex;\n",
       "  /* unfitted */\n",
       "  border: var(--sklearn-color-unfitted-level-1) 1pt solid;\n",
       "  color: var(--sklearn-color-unfitted-level-1);\n",
       "}\n",
       "\n",
       ".sk-estimator-doc-link.fitted,\n",
       "a:link.sk-estimator-doc-link.fitted,\n",
       "a:visited.sk-estimator-doc-link.fitted {\n",
       "  /* fitted */\n",
       "  border: var(--sklearn-color-fitted-level-1) 1pt solid;\n",
       "  color: var(--sklearn-color-fitted-level-1);\n",
       "}\n",
       "\n",
       "/* On hover */\n",
       "div.sk-estimator:hover .sk-estimator-doc-link:hover,\n",
       ".sk-estimator-doc-link:hover,\n",
       "div.sk-label-container:hover .sk-estimator-doc-link:hover,\n",
       ".sk-estimator-doc-link:hover {\n",
       "  /* unfitted */\n",
       "  background-color: var(--sklearn-color-unfitted-level-3);\n",
       "  color: var(--sklearn-color-background);\n",
       "  text-decoration: none;\n",
       "}\n",
       "\n",
       "div.sk-estimator.fitted:hover .sk-estimator-doc-link.fitted:hover,\n",
       ".sk-estimator-doc-link.fitted:hover,\n",
       "div.sk-label-container:hover .sk-estimator-doc-link.fitted:hover,\n",
       ".sk-estimator-doc-link.fitted:hover {\n",
       "  /* fitted */\n",
       "  background-color: var(--sklearn-color-fitted-level-3);\n",
       "  color: var(--sklearn-color-background);\n",
       "  text-decoration: none;\n",
       "}\n",
       "\n",
       "/* Span, style for the box shown on hovering the info icon */\n",
       ".sk-estimator-doc-link span {\n",
       "  display: none;\n",
       "  z-index: 9999;\n",
       "  position: relative;\n",
       "  font-weight: normal;\n",
       "  right: .2ex;\n",
       "  padding: .5ex;\n",
       "  margin: .5ex;\n",
       "  width: min-content;\n",
       "  min-width: 20ex;\n",
       "  max-width: 50ex;\n",
       "  color: var(--sklearn-color-text);\n",
       "  box-shadow: 2pt 2pt 4pt #999;\n",
       "  /* unfitted */\n",
       "  background: var(--sklearn-color-unfitted-level-0);\n",
       "  border: .5pt solid var(--sklearn-color-unfitted-level-3);\n",
       "}\n",
       "\n",
       ".sk-estimator-doc-link.fitted span {\n",
       "  /* fitted */\n",
       "  background: var(--sklearn-color-fitted-level-0);\n",
       "  border: var(--sklearn-color-fitted-level-3);\n",
       "}\n",
       "\n",
       ".sk-estimator-doc-link:hover span {\n",
       "  display: block;\n",
       "}\n",
       "\n",
       "/* \"?\"-specific style due to the `<a>` HTML tag */\n",
       "\n",
       "#sk-container-id-2 a.estimator_doc_link {\n",
       "  float: right;\n",
       "  font-size: 1rem;\n",
       "  line-height: 1em;\n",
       "  font-family: monospace;\n",
       "  background-color: var(--sklearn-color-background);\n",
       "  border-radius: 1rem;\n",
       "  height: 1rem;\n",
       "  width: 1rem;\n",
       "  text-decoration: none;\n",
       "  /* unfitted */\n",
       "  color: var(--sklearn-color-unfitted-level-1);\n",
       "  border: var(--sklearn-color-unfitted-level-1) 1pt solid;\n",
       "}\n",
       "\n",
       "#sk-container-id-2 a.estimator_doc_link.fitted {\n",
       "  /* fitted */\n",
       "  border: var(--sklearn-color-fitted-level-1) 1pt solid;\n",
       "  color: var(--sklearn-color-fitted-level-1);\n",
       "}\n",
       "\n",
       "/* On hover */\n",
       "#sk-container-id-2 a.estimator_doc_link:hover {\n",
       "  /* unfitted */\n",
       "  background-color: var(--sklearn-color-unfitted-level-3);\n",
       "  color: var(--sklearn-color-background);\n",
       "  text-decoration: none;\n",
       "}\n",
       "\n",
       "#sk-container-id-2 a.estimator_doc_link.fitted:hover {\n",
       "  /* fitted */\n",
       "  background-color: var(--sklearn-color-fitted-level-3);\n",
       "}\n",
       "</style><div id=\"sk-container-id-2\" class=\"sk-top-container\"><div class=\"sk-text-repr-fallback\"><pre>Pipeline(steps=[(&#x27;preprocessor&#x27;,\n",
       "                 ColumnTransformer(transformers=[(&#x27;num&#x27;, StandardScaler(),\n",
       "                                                  &lt;sklearn.compose._column_transformer.make_column_selector object at 0x0000022D90557CA0&gt;),\n",
       "                                                 (&#x27;cat&#x27;, OneHotEncoder(),\n",
       "                                                  &lt;sklearn.compose._column_transformer.make_column_selector object at 0x0000022D905579D0&gt;)])),\n",
       "                (&#x27;classifier&#x27;, LogisticRegression(max_iter=1000))])</pre><b>In a Jupyter environment, please rerun this cell to show the HTML representation or trust the notebook. <br />On GitHub, the HTML representation is unable to render, please try loading this page with nbviewer.org.</b></div><div class=\"sk-container\" hidden><div class=\"sk-item sk-dashed-wrapped\"><div class=\"sk-label-container\"><div class=\"sk-label fitted sk-toggleable\"><input class=\"sk-toggleable__control sk-hidden--visually\" id=\"sk-estimator-id-8\" type=\"checkbox\" ><label for=\"sk-estimator-id-8\" class=\"sk-toggleable__label fitted sk-toggleable__label-arrow fitted\">&nbsp;&nbsp;Pipeline<a class=\"sk-estimator-doc-link fitted\" rel=\"noreferrer\" target=\"_blank\" href=\"https://scikit-learn.org/1.5/modules/generated/sklearn.pipeline.Pipeline.html\">?<span>Documentation for Pipeline</span></a><span class=\"sk-estimator-doc-link fitted\">i<span>Fitted</span></span></label><div class=\"sk-toggleable__content fitted\"><pre>Pipeline(steps=[(&#x27;preprocessor&#x27;,\n",
       "                 ColumnTransformer(transformers=[(&#x27;num&#x27;, StandardScaler(),\n",
       "                                                  &lt;sklearn.compose._column_transformer.make_column_selector object at 0x0000022D90557CA0&gt;),\n",
       "                                                 (&#x27;cat&#x27;, OneHotEncoder(),\n",
       "                                                  &lt;sklearn.compose._column_transformer.make_column_selector object at 0x0000022D905579D0&gt;)])),\n",
       "                (&#x27;classifier&#x27;, LogisticRegression(max_iter=1000))])</pre></div> </div></div><div class=\"sk-serial\"><div class=\"sk-item sk-dashed-wrapped\"><div class=\"sk-label-container\"><div class=\"sk-label fitted sk-toggleable\"><input class=\"sk-toggleable__control sk-hidden--visually\" id=\"sk-estimator-id-9\" type=\"checkbox\" ><label for=\"sk-estimator-id-9\" class=\"sk-toggleable__label fitted sk-toggleable__label-arrow fitted\">&nbsp;preprocessor: ColumnTransformer<a class=\"sk-estimator-doc-link fitted\" rel=\"noreferrer\" target=\"_blank\" href=\"https://scikit-learn.org/1.5/modules/generated/sklearn.compose.ColumnTransformer.html\">?<span>Documentation for preprocessor: ColumnTransformer</span></a></label><div class=\"sk-toggleable__content fitted\"><pre>ColumnTransformer(transformers=[(&#x27;num&#x27;, StandardScaler(),\n",
       "                                 &lt;sklearn.compose._column_transformer.make_column_selector object at 0x0000022D90557CA0&gt;),\n",
       "                                (&#x27;cat&#x27;, OneHotEncoder(),\n",
       "                                 &lt;sklearn.compose._column_transformer.make_column_selector object at 0x0000022D905579D0&gt;)])</pre></div> </div></div><div class=\"sk-parallel\"><div class=\"sk-parallel-item\"><div class=\"sk-item\"><div class=\"sk-label-container\"><div class=\"sk-label fitted sk-toggleable\"><input class=\"sk-toggleable__control sk-hidden--visually\" id=\"sk-estimator-id-10\" type=\"checkbox\" ><label for=\"sk-estimator-id-10\" class=\"sk-toggleable__label fitted sk-toggleable__label-arrow fitted\">num</label><div class=\"sk-toggleable__content fitted\"><pre>&lt;sklearn.compose._column_transformer.make_column_selector object at 0x0000022D90557CA0&gt;</pre></div> </div></div><div class=\"sk-serial\"><div class=\"sk-item\"><div class=\"sk-estimator fitted sk-toggleable\"><input class=\"sk-toggleable__control sk-hidden--visually\" id=\"sk-estimator-id-11\" type=\"checkbox\" ><label for=\"sk-estimator-id-11\" class=\"sk-toggleable__label fitted sk-toggleable__label-arrow fitted\">&nbsp;StandardScaler<a class=\"sk-estimator-doc-link fitted\" rel=\"noreferrer\" target=\"_blank\" href=\"https://scikit-learn.org/1.5/modules/generated/sklearn.preprocessing.StandardScaler.html\">?<span>Documentation for StandardScaler</span></a></label><div class=\"sk-toggleable__content fitted\"><pre>StandardScaler()</pre></div> </div></div></div></div></div><div class=\"sk-parallel-item\"><div class=\"sk-item\"><div class=\"sk-label-container\"><div class=\"sk-label fitted sk-toggleable\"><input class=\"sk-toggleable__control sk-hidden--visually\" id=\"sk-estimator-id-12\" type=\"checkbox\" ><label for=\"sk-estimator-id-12\" class=\"sk-toggleable__label fitted sk-toggleable__label-arrow fitted\">cat</label><div class=\"sk-toggleable__content fitted\"><pre>&lt;sklearn.compose._column_transformer.make_column_selector object at 0x0000022D905579D0&gt;</pre></div> </div></div><div class=\"sk-serial\"><div class=\"sk-item\"><div class=\"sk-estimator fitted sk-toggleable\"><input class=\"sk-toggleable__control sk-hidden--visually\" id=\"sk-estimator-id-13\" type=\"checkbox\" ><label for=\"sk-estimator-id-13\" class=\"sk-toggleable__label fitted sk-toggleable__label-arrow fitted\">&nbsp;OneHotEncoder<a class=\"sk-estimator-doc-link fitted\" rel=\"noreferrer\" target=\"_blank\" href=\"https://scikit-learn.org/1.5/modules/generated/sklearn.preprocessing.OneHotEncoder.html\">?<span>Documentation for OneHotEncoder</span></a></label><div class=\"sk-toggleable__content fitted\"><pre>OneHotEncoder()</pre></div> </div></div></div></div></div></div></div><div class=\"sk-item\"><div class=\"sk-estimator fitted sk-toggleable\"><input class=\"sk-toggleable__control sk-hidden--visually\" id=\"sk-estimator-id-14\" type=\"checkbox\" ><label for=\"sk-estimator-id-14\" class=\"sk-toggleable__label fitted sk-toggleable__label-arrow fitted\">&nbsp;LogisticRegression<a class=\"sk-estimator-doc-link fitted\" rel=\"noreferrer\" target=\"_blank\" href=\"https://scikit-learn.org/1.5/modules/generated/sklearn.linear_model.LogisticRegression.html\">?<span>Documentation for LogisticRegression</span></a></label><div class=\"sk-toggleable__content fitted\"><pre>LogisticRegression(max_iter=1000)</pre></div> </div></div></div></div></div></div>"
      ],
      "text/plain": [
       "Pipeline(steps=[('preprocessor',\n",
       "                 ColumnTransformer(transformers=[('num', StandardScaler(),\n",
       "                                                  <sklearn.compose._column_transformer.make_column_selector object at 0x0000022D90557CA0>),\n",
       "                                                 ('cat', OneHotEncoder(),\n",
       "                                                  <sklearn.compose._column_transformer.make_column_selector object at 0x0000022D905579D0>)])),\n",
       "                ('classifier', LogisticRegression(max_iter=1000))])"
      ]
     },
     "execution_count": 82,
     "metadata": {},
     "output_type": "execute_result"
    }
   ],
   "source": [
    "# now we run the logistic regression we have set up\n",
    "# Just run this cell\n",
    "\n",
    "model.fit(X_train, Y_train)"
   ]
  },
  {
   "cell_type": "markdown",
   "metadata": {
    "deletable": false,
    "editable": false,
    "id": "oaqd49t_1yqV",
    "nbgrader": {
     "cell_type": "markdown",
     "checksum": "6e095e047539d246a5de01a5daa886ae",
     "grade": false,
     "grade_id": "cell-c78a74d1017bb507",
     "locked": true,
     "schema_version": 3,
     "solution": false,
     "task": false
    }
   },
   "source": [
    "**Question 6.6.** Let's now predict on the test set and see what the performance metrics are."
   ]
  },
  {
   "cell_type": "code",
   "execution_count": 83,
   "metadata": {
    "deletable": false,
    "id": "zl2YOlw11yqW",
    "nbgrader": {
     "cell_type": "code",
     "checksum": "06898ea0ff6e15056a608a2fd16bd0e3",
     "grade": false,
     "grade_id": "cell-1761bee9d7c76c2f",
     "locked": false,
     "schema_version": 3,
     "solution": true,
     "task": false
    }
   },
   "outputs": [
    {
     "name": "stdout",
     "output_type": "stream",
     "text": [
      "Accuracy: 0.7809\n",
      "\n",
      "Classification Report:\n",
      "              precision    recall  f1-score   support\n",
      "\n",
      "           0       0.77      0.86      0.81        99\n",
      "           1       0.79      0.68      0.73        79\n",
      "\n",
      "    accuracy                           0.78       178\n",
      "   macro avg       0.78      0.77      0.77       178\n",
      "weighted avg       0.78      0.78      0.78       178\n",
      "\n",
      "\n",
      "Confusion Matrix:\n",
      "[[85 14]\n",
      " [25 54]]\n"
     ]
    }
   ],
   "source": [
    "## write code to run the model on the test set;\n",
    "## after running this cell, Y_test holds the true class labels for the test set\n",
    "## set Y_pred to be the predicted labels\n",
    "\n",
    "# YOUR CODE HERE\n",
    "# raise NotImplementedError()\n",
    "from sklearn.metrics import accuracy_score, classification_report, confusion_matrix\n",
    "Y_pred = model.predict(X_test)\n",
    "accuracy = accuracy_score(Y_test, Y_pred)\n",
    "print(f\"Accuracy: {accuracy:.4f}\")\n",
    "\n",
    "# Classification report for more detailed metrics (precision, recall, F1 score)\n",
    "print(\"\\nClassification Report:\")\n",
    "print(classification_report(Y_test, Y_pred))\n",
    "\n",
    "# Confusion Matrix\n",
    "print(\"\\nConfusion Matrix:\")\n",
    "print(confusion_matrix(Y_test, Y_pred))"
   ]
  },
  {
   "cell_type": "code",
   "execution_count": null,
   "metadata": {
    "deletable": false,
    "editable": false,
    "id": "Q5S8fYZrdu4-",
    "nbgrader": {
     "cell_type": "code",
     "checksum": "96ab8de99f32a6d937098dee96c31aa9",
     "grade": true,
     "grade_id": "cell-dfaf3f0002c0da31",
     "locked": true,
     "points": 2,
     "schema_version": 3,
     "solution": false,
     "task": false
    }
   },
   "outputs": [],
   "source": []
  },
  {
   "cell_type": "markdown",
   "metadata": {
    "deletable": false,
    "editable": false,
    "id": "lVuXt4Tq1yqX",
    "nbgrader": {
     "cell_type": "markdown",
     "checksum": "530e00a137fcc2cacc7f4b91320c6738",
     "grade": false,
     "grade_id": "cell-da8005c9792de3b3",
     "locked": true,
     "schema_version": 3,
     "solution": false,
     "task": false
    }
   },
   "source": [
    "### Fairness metrics\n",
    "\n",
    "Let's now examine the fairness metrics of this classifier.\n",
    "\n",
    "Let's first convert `Y_pred` into a DataFrame for use later."
   ]
  },
  {
   "cell_type": "code",
   "execution_count": 126,
   "metadata": {
    "deletable": false,
    "editable": false,
    "id": "e8aWh7VB1yqX",
    "nbgrader": {
     "cell_type": "code",
     "checksum": "2b7283120873f1d00c2247a089e92f8e",
     "grade": false,
     "grade_id": "cell-00651bce84e54b3f",
     "locked": true,
     "schema_version": 3,
     "solution": false,
     "task": false
    }
   },
   "outputs": [
    {
     "data": {
      "text/html": [
       "<div>\n",
       "<style scoped>\n",
       "    .dataframe tbody tr th:only-of-type {\n",
       "        vertical-align: middle;\n",
       "    }\n",
       "\n",
       "    .dataframe tbody tr th {\n",
       "        vertical-align: top;\n",
       "    }\n",
       "\n",
       "    .dataframe thead th {\n",
       "        text-align: right;\n",
       "    }\n",
       "</style>\n",
       "<table border=\"1\" class=\"dataframe\">\n",
       "  <thead>\n",
       "    <tr style=\"text-align: right;\">\n",
       "      <th></th>\n",
       "      <th>0</th>\n",
       "    </tr>\n",
       "  </thead>\n",
       "  <tbody>\n",
       "    <tr>\n",
       "      <th>641</th>\n",
       "      <td>1</td>\n",
       "    </tr>\n",
       "    <tr>\n",
       "      <th>496</th>\n",
       "      <td>1</td>\n",
       "    </tr>\n",
       "    <tr>\n",
       "      <th>262</th>\n",
       "      <td>0</td>\n",
       "    </tr>\n",
       "    <tr>\n",
       "      <th>311</th>\n",
       "      <td>1</td>\n",
       "    </tr>\n",
       "    <tr>\n",
       "      <th>551</th>\n",
       "      <td>0</td>\n",
       "    </tr>\n",
       "  </tbody>\n",
       "</table>\n",
       "</div>"
      ],
      "text/plain": [
       "     0\n",
       "641  1\n",
       "496  1\n",
       "262  0\n",
       "311  1\n",
       "551  0"
      ]
     },
     "execution_count": 126,
     "metadata": {},
     "output_type": "execute_result"
    }
   ],
   "source": [
    "Y_pred = pd.DataFrame(Y_pred, Y_test.index)\n",
    "Y_pred.head()"
   ]
  },
  {
   "cell_type": "markdown",
   "metadata": {
    "deletable": false,
    "editable": false,
    "id": "SomD0wB5du4-",
    "nbgrader": {
     "cell_type": "markdown",
     "checksum": "79742f8f8cd65f787fa2590cfbbd59b7",
     "grade": false,
     "grade_id": "cell-b1ee5297b337d03e",
     "locked": true,
     "schema_version": 3,
     "solution": false,
     "task": false
    }
   },
   "source": [
    "**Question 7.** We will first extract the sensitive features into a new dataframe, `A`.  Since we are examining results on the test set, we extract this from `X_test`."
   ]
  },
  {
   "cell_type": "code",
   "execution_count": 127,
   "metadata": {
    "deletable": false,
    "editable": false,
    "id": "yMbJ7mBY1yqX",
    "nbgrader": {
     "cell_type": "code",
     "checksum": "8f8f40b62854c39be8cb01ea66e244b0",
     "grade": false,
     "grade_id": "cell-0f174b417232da98",
     "locked": true,
     "schema_version": 3,
     "solution": false,
     "task": false
    }
   },
   "outputs": [],
   "source": [
    "# Just run this cell\n",
    "# we will import packages we may need\n",
    "from sklearn.metrics import confusion_matrix"
   ]
  },
  {
   "cell_type": "code",
   "execution_count": 158,
   "metadata": {
    "deletable": false,
    "id": "qw7fsm6V1yqY",
    "nbgrader": {
     "cell_type": "code",
     "checksum": "9a3070993317661dd4bbec341c3f4149",
     "grade": true,
     "grade_id": "cell-4fbae6c5db541d85",
     "locked": false,
     "points": 2,
     "schema_version": 3,
     "solution": true,
     "task": false
    }
   },
   "outputs": [
    {
     "name": "stdout",
     "output_type": "stream",
     "text": [
      "       Pclass       Age     SibSp     Parch      Fare  Sex_female  Sex_male  \\\n",
      "506 -1.482983 -0.389573 -0.552714 -0.506787  0.656556         1.0       0.0   \n",
      "394 -1.482983  1.681856  0.522511 -0.506787  0.826054         1.0       0.0   \n",
      "210 -1.482983  1.543761  0.522511  0.664747  0.852202         0.0       1.0   \n",
      "247 -1.482983 -0.803859  1.597735  1.836282  4.306266         1.0       0.0   \n",
      "437 -0.287191 -0.182430 -0.552714 -0.506787 -0.161947         0.0       1.0   \n",
      "\n",
      "     Embarked_C  Embarked_Q  Embarked_S  \n",
      "506         1.0         0.0         0.0  \n",
      "394         1.0         0.0         0.0  \n",
      "210         0.0         0.0         1.0  \n",
      "247         1.0         0.0         0.0  \n",
      "437         0.0         0.0         1.0  \n",
      "Pclass\n",
      " 0.908600    82\n",
      "-1.482983    50\n",
      "-0.287191    46\n",
      "Name: count, dtype: int64\n"
     ]
    }
   ],
   "source": [
    "# In this cell, extract the sensitive features A\n",
    "\n",
    "# YOUR CODE HERE\n",
    "# raise NotImplementedError()\n",
    "\n",
    "sensitive_features = ['Pclass', 'Age', 'SibSp', 'Parch', 'Fare', 'Sex_female', 'Sex_male',\n",
    "       'Embarked_C', 'Embarked_Q', 'Embarked_S']  \n",
    "\n",
    "\n",
    "A = X_test[sensitive_features]\n",
    "\n",
    "print(A.head())\n",
    "print(X_test['Pclass'].value_counts())"
   ]
  },
  {
   "cell_type": "markdown",
   "metadata": {
    "deletable": false,
    "editable": false,
    "id": "8K3zhMyc1yqZ",
    "nbgrader": {
     "cell_type": "markdown",
     "checksum": "97449fd0e5d1f8b84df5da72dfca59fa",
     "grade": false,
     "grade_id": "cell-01b2680145e08a32",
     "locked": true,
     "schema_version": 3,
     "solution": false,
     "task": false
    }
   },
   "source": [
    "**Question 7.1.** Now let's write some functions to calculate the fairness metrics.  In particular, we want to calculate the true positive and false positive rates, and the positive label rate."
   ]
  },
  {
   "cell_type": "code",
   "execution_count": 146,
   "metadata": {
    "deletable": false,
    "id": "J8ECyfW51yqa",
    "nbgrader": {
     "cell_type": "code",
     "checksum": "b6a60ad8152dc59569c9a61e63897cb6",
     "grade": true,
     "grade_id": "cell-bb7712e2586f909d",
     "locked": false,
     "points": 10,
     "schema_version": 3,
     "solution": true,
     "task": false
    }
   },
   "outputs": [],
   "source": [
    "def tpr_metric(Y_true, Y_pred,x, s_feature, s_value):\n",
    "    '''\n",
    "    Parameters\n",
    "    ----------\n",
    "    y_true : DataFrame\n",
    "        the true labels\n",
    "    y_pred : DataFrame\n",
    "        the predicted labels\n",
    "    x : DataFrame\n",
    "        the dataset containing all features - should correspond to y_true\n",
    "    s_feature : string\n",
    "        Name of the sensitive feature on which we calculate the metric\n",
    "    s_value : string\n",
    "        Value of the senstivie feature on which we output the metrics\n",
    "\n",
    "    Returns\n",
    "    -------\n",
    "    tpr : float\n",
    "        The true positive rate for the individuals with s_feature = s_value\n",
    "\n",
    "    For example, calling tpr_metric(Y_test, Y_pred, x, \"condition\",\"asthma\") should return\n",
    "    the true positive rate for people with asthma.\n",
    "    Note that you need x as an input parameter so that you capture the correct indices in y\n",
    "    that correspond to s_feature=s_value in the x array.\n",
    "    y_true and x should correspond to the same rows, for example these could be Y_test and X_test\n",
    "    '''\n",
    "\n",
    "    tpr=0\n",
    "\n",
    "    # YOUR CODE HERE\n",
    "    # raise NotImplementedError()\n",
    "    if isinstance(Y_pred, pd.DataFrame):\n",
    "        Y_pred = Y_pred.iloc[:, 0]\n",
    "    if isinstance(Y_true, pd.DataFrame):\n",
    "        Y_true = Y_true.iloc[:, 0]\n",
    "    Y_pred = Y_pred.reindex(x.index)\n",
    "    Y_true = Y_true.reindex(x.index)\n",
    "    subgroup_indices = x[s_feature] == s_value\n",
    "    y_true_subgroup = Y_true[subgroup_indices]\n",
    "    y_pred_subgroup = Y_pred[subgroup_indices]\n",
    "    \n",
    "\n",
    "    tp = ((y_true_subgroup == 1) & (y_pred_subgroup == 1)).sum()  # True Positives\n",
    "    fn = ((y_true_subgroup == 1) & (y_pred_subgroup == 0)).sum()  # False Negatives\n",
    "    \n",
    "    if (tp + fn) > 0:  # Avoid division by zero\n",
    "        tpr = tp / (tp + fn)\n",
    "    \n",
    "    return tpr\n"
   ]
  },
  {
   "cell_type": "code",
   "execution_count": 147,
   "metadata": {
    "deletable": false,
    "id": "Tcl3BMDC1yqa",
    "nbgrader": {
     "cell_type": "code",
     "checksum": "e1ccff81ac7d1a491adf4ede21ad4e90",
     "grade": true,
     "grade_id": "cell-8be2bd8fa8f7e97e",
     "locked": false,
     "points": 10,
     "schema_version": 3,
     "solution": true,
     "task": false
    }
   },
   "outputs": [],
   "source": [
    "def fpr_metric(Y_true, Y_pred,x, s_feature, s_value):\n",
    "    '''\n",
    "    Parameters\n",
    "    ----------\n",
    "    y_true : DataFrame\n",
    "        the true labels\n",
    "    y_pred : DataFrame\n",
    "        the predicted labels\n",
    "    x : DataFrame\n",
    "        the dataset containing all features - should correspond to y_true\n",
    "    s_feature : string\n",
    "        Name of the sensitive feature on which we calculate the metric\n",
    "    s_value : string\n",
    "        Value of the senstivie feature on which we output the metrics\n",
    "\n",
    "    Returns\n",
    "    -------\n",
    "    fpr : float\n",
    "        The false positive rate for the individuals with s_feature = s_value\n",
    "\n",
    "    For example, calling fpr_metric(Y_test, Y_pred, x, \"condition\",\"asthma\") should return\n",
    "    the false positive rate for people with asthma.\n",
    "    Note that you need x as an input parameter so that you capture the correct indices in y\n",
    "    that correspond to s_feature=s_value in the x array.\n",
    "    y_true and x should correspond to the same rows, for example these could be Y_test and X_test\n",
    "    '''\n",
    "\n",
    "    fpr=0\n",
    "    \n",
    "    # YOUR CODE HERE\n",
    "    # raise NotImplementedError()\n",
    "    if isinstance(Y_pred, pd.DataFrame):\n",
    "        Y_pred = Y_pred.iloc[:, 0] \n",
    "    if isinstance(Y_true, pd.DataFrame):\n",
    "        Y_true = Y_true.iloc[:, 0]\n",
    "    Y_pred = Y_pred.reindex(x.index)\n",
    "    Y_true = Y_true.reindex(x.index)\n",
    "    subgroup_indices = x[s_feature] == s_value\n",
    "    y_true_subgroup = Y_true[subgroup_indices]\n",
    "    y_pred_subgroup = Y_pred[subgroup_indices]\n",
    "\n",
    "\n",
    "    fp = ((y_true_subgroup == 0) & (y_pred_subgroup == 1)).sum()  # False Positives\n",
    "    tn = ((y_true_subgroup == 0) & (y_pred_subgroup == 0)).sum()  # True Negatives\n",
    "\n",
    "    if (fp + tn) > 0:  # Avoid division by zero\n",
    "        fpr = fp / (fp + tn)\n",
    "    \n",
    "    return fpr"
   ]
  },
  {
   "cell_type": "code",
   "execution_count": 148,
   "metadata": {
    "deletable": false,
    "id": "owlVuTdo1yqa",
    "nbgrader": {
     "cell_type": "code",
     "checksum": "0c920f1c33e420719bf68c2fa685b35e",
     "grade": true,
     "grade_id": "cell-3e103182ac7f833b",
     "locked": false,
     "points": 10,
     "schema_version": 3,
     "solution": true,
     "task": false
    }
   },
   "outputs": [],
   "source": [
    "def poslabel_metric(Y_pred,x, s_feature, s_value):\n",
    "    '''\n",
    "    Parameters\n",
    "    ----------\n",
    "    y_pred : DataFrame\n",
    "        the predicted labels\n",
    "    x : DataFrame\n",
    "        the dataset containing all features - should correspond to y_true\n",
    "    s_feature : string\n",
    "        Name of the sensitive feature on which we calculate the metric\n",
    "    s_value : string\n",
    "        Value of the senstivie feature on which we output the metrics\n",
    "\n",
    "    Returns\n",
    "    -------\n",
    "    poslabel : float\n",
    "        The rate of a positive label for the individuals with s_feature = s_value\n",
    "        This is P[y_pred=1|s_featue=s_value]\n",
    "\n",
    "    For example, calling poslabel_metric(y_pred,x, \"condition\",\"asthma\") should return\n",
    "    the rate of positive labels for people with asthma.\n",
    "    Note that you need x as an input parameter so that you capture the correct indices in y\n",
    "    that correspond to s_feature=s_value in the x array.\n",
    "    y_pred and x should correspond to the same rows, for example these could be Y_pred and X_test\n",
    "    '''\n",
    "\n",
    "    poslabel=0\n",
    "\n",
    "    # YOUR CODE HERE\n",
    "    # raise NotImplementedError()\n",
    "    # y_pred = y_pred.reset_index(drop=True)  # Reset index of y_pred\n",
    "    # x = x.reset_index(drop=True)  \n",
    "    if isinstance(Y_pred, pd.DataFrame):\n",
    "        Y_pred = Y_pred.iloc[:, 0]\n",
    "    \n",
    "    Y_pred = Y_pred.reindex(x.index)\n",
    "    subgroup_indices = x[s_feature] == s_value\n",
    "    \n",
    "    y_pred_subgroup = Y_pred[subgroup_indices]\n",
    "\n",
    "    positive_labels = (y_pred_subgroup == 1).sum()\n",
    "\n",
    "\n",
    "    total_individuals = subgroup_indices.sum()\n",
    "\n",
    "\n",
    "    if total_individuals > 0:  \n",
    "        poslabel = positive_labels / total_individuals\n",
    "    return poslabel"
   ]
  },
  {
   "cell_type": "markdown",
   "metadata": {
    "deletable": false,
    "editable": false,
    "id": "hdBcgwrB1yqb",
    "nbgrader": {
     "cell_type": "markdown",
     "checksum": "335440231b9562c0130ad078311025d4",
     "grade": false,
     "grade_id": "cell-9cd53452e9de7912",
     "locked": true,
     "schema_version": 3,
     "solution": false,
     "task": false
    }
   },
   "source": [
    "You now have the functions necessary to determine the fairness metrics.\n",
    "We will examine the difference in the parity definitions.\n",
    "Specifically, we look at the following:\n",
    "- demographic parity difference:  the gap in demographic parity between two given subgroups.  Here, it means the difference in the rate of positive label ( Pr[Y_pred = 1 | A=1] - Pr[Y_pred = 1 | A=0] between subgroups 1 and 0.)\n",
    "- equal opportunity difference:  the difference in true positive rates\n",
    "- equalized odds difference:  the difference in true positive rates and false positive rates. The output here is a vector, with the first element in the vector being the difference in true positive rates and the second element being the difference in false positive rates."
   ]
  },
  {
   "cell_type": "markdown",
   "metadata": {
    "deletable": false,
    "editable": false,
    "id": "0WiVMN6z1yqb",
    "nbgrader": {
     "cell_type": "markdown",
     "checksum": "adb4f26e9194c1a11145c093e784a81c",
     "grade": false,
     "grade_id": "cell-bbd72a52a13f4794",
     "locked": true,
     "schema_version": 3,
     "solution": false,
     "task": false
    }
   },
   "source": [
    "**Question 7.2.** For each of the following, write code to compute the metrics and write in text form your explanation of what you see - describe the metrics.  Is our model fair?  Why or why not?\n",
    "\n",
    "1. First sensitive feature: subgroup 1 vs subgroup 2 </br  >\n",
    "    a. Demographic parity difference </br  >\n",
    "    b. Equal opportunity diference </br  >\n",
    "    c. Equalized odds difference\n",
    "2. Second sensitive feature:  subgroup a vs subgroup b </br  >\n",
    "    a. Demographic parity difference </br  >\n",
    "    b. Equal opportunity diference </br  >\n",
    "    c. Equalized odds difference </br  >\n",
    "3. Age:  young subgroup vs old subgroup (choose your own age ranges) </br  >\n",
    "    a. Demographic parity difference </br  >\n",
    "    b. Equal opportunity diference </br  >\n",
    "    c. Equalized odds difference"
   ]
  },
  {
   "cell_type": "code",
   "execution_count": 152,
   "metadata": {
    "deletable": false,
    "id": "TPdAfAEY1yqc",
    "nbgrader": {
     "cell_type": "code",
     "checksum": "ccf027394dd4253cbfcf4ec6bea2ac7a",
     "grade": true,
     "grade_id": "cell-35214af1dc698642",
     "locked": false,
     "points": 6,
     "schema_version": 3,
     "solution": true,
     "task": false
    }
   },
   "outputs": [
    {
     "name": "stdout",
     "output_type": "stream",
     "text": [
      "Demographic Parity Difference: 0.05401069518716578\n",
      "Equal Opportunity Difference: -0.02777777777777779\n",
      "Equalized Odds Differences (TPR, FPR): [-0.02777777777777779, 0.2857142857142857]\n"
     ]
    }
   ],
   "source": [
    "# Code and explanation for 1 here\n",
    "# Demographic parity difference\n",
    "# YOUR CODE HERE\n",
    "# raise NotImplementedError()\n",
    "\n",
    "sensitive_feature1 = 'Sex_female'\n",
    "sensitive_feature2 = 'Sex_male'\n",
    "demographic_parity = poslabel_metric(Y_pred, X_test, sensitive_feature1, 1) - poslabel_metric(Y_pred, X_test, sensitive_feature2, 1)\n",
    "print(\"Demographic Parity Difference:\", demographic_parity)\n",
    "\n",
    "# Equal Opportunity Difference\n",
    "eq_opp_diff = float(tpr_metric(Y_test, Y_pred, X_test, sensitive_feature1, 1) - tpr_metric(Y_test, Y_pred, X_test, sensitive_feature2, 1))\n",
    "print(\"Equal Opportunity Difference:\", eq_opp_diff)\n",
    "\n",
    "# Equalized Odds Difference\n",
    "fpr_diff = float(fpr_metric(Y_test, Y_pred, X_test, sensitive_feature1, 1) - fpr_metric(Y_test, Y_pred, X_test, sensitive_feature2, 1))\n",
    "print(\"Equalized Odds Differences (TPR, FPR):\", [eq_opp_diff, fpr_diff])"
   ]
  },
  {
   "cell_type": "markdown",
   "metadata": {
    "deletable": false,
    "editable": false,
    "id": "CCld8E08du4_",
    "nbgrader": {
     "cell_type": "markdown",
     "checksum": "4ffe8f31137940a1a94e2b3cc0b91786",
     "grade": false,
     "grade_id": "cell-f704b7694651ccb7",
     "locked": true,
     "schema_version": 3,
     "solution": false,
     "task": false
    }
   },
   "source": [
    "Write your explanation below:"
   ]
  },
  {
   "cell_type": "markdown",
   "metadata": {
    "deletable": false,
    "id": "eR_BiiyHdu4_",
    "nbgrader": {
     "cell_type": "markdown",
     "checksum": "25860304599669687dc93c3571345d7f",
     "grade": true,
     "grade_id": "cell-e8bbab651d3fd641",
     "locked": false,
     "points": 10,
     "schema_version": 3,
     "solution": true,
     "task": false
    }
   },
   "source": [
    "The difference in demographic parity shows the difference between prediction rates to be 0.054, while equal opportunity difference shows a value of -0.0278. The equalized odds difference is shown to be [TPR: -0.0278, FPR: 0.2857]. Since the values are relatively small, it suggests that while there is some disparity, the model is relatively fair, but there may be differences in false positive rates."
   ]
  },
  {
   "cell_type": "code",
   "execution_count": 163,
   "metadata": {
    "deletable": false,
    "id": "Zr5O1YLo1yqc",
    "nbgrader": {
     "cell_type": "code",
     "checksum": "c8a529dfafe13af23d5af34828561ec3",
     "grade": true,
     "grade_id": "cell-bbcd431560d40657",
     "locked": false,
     "points": 6,
     "schema_version": 3,
     "solution": true,
     "task": false
    }
   },
   "outputs": [
    {
     "name": "stdout",
     "output_type": "stream",
     "text": [
      "Demographic Parity Difference: -0.1129374337221633\n",
      "Equal Opportunity Difference: -0.38888888888888884\n",
      "Equalized Odds Differences (TPR, FPR): [-0.38888888888888884, 0.15384615384615385]\n"
     ]
    }
   ],
   "source": [
    "# Code and explanation for 2 here\n",
    "# Demographic parity difference\n",
    "# YOUR CODE HERE\n",
    "# raise NotImplementedError()\n",
    "bins = [-np.inf, -0.5, 0.5, np.inf]  # Example, adjust as needed based on your transformed data\n",
    "labels = ['Pclass_3', 'Pclass_2', 'Pclass_1']\n",
    "X_test['Pclass_group'] = pd.cut(X_test['Pclass'], bins=bins, labels=labels)\n",
    "\n",
    "sensitive_feature = 'Pclass_group'\n",
    "demographic_parity = poslabel_metric(Y_pred, X_test, sensitive_feature, \"Pclass_1\") - poslabel_metric(Y_pred, X_test, sensitive_feature, \"Pclass_2\")\n",
    "print(\"Demographic Parity Difference:\", demographic_parity)\n",
    "\n",
    "# Equal Opportunity Difference\n",
    "eq_opp_diff = float(tpr_metric(Y_test, Y_pred, X_test, sensitive_feature, \"Pclass_1\") - tpr_metric(Y_test, Y_pred, X_test, sensitive_feature, \"Pclass_2\"))\n",
    "print(\"Equal Opportunity Difference:\", eq_opp_diff)\n",
    "\n",
    "# Equalized Odds Difference\n",
    "fpr_diff = float(fpr_metric(Y_test, Y_pred, X_test, sensitive_feature, \"Pclass_1\") - fpr_metric(Y_test, Y_pred, X_test, sensitive_feature, \"Pclass_2\"))\n",
    "print(\"Equalized Odds Differences (TPR, FPR):\", [eq_opp_diff, fpr_diff])"
   ]
  },
  {
   "cell_type": "markdown",
   "metadata": {
    "deletable": false,
    "editable": false,
    "id": "SmocFNskdu4_",
    "nbgrader": {
     "cell_type": "markdown",
     "checksum": "542e1834205eb5364264eed14d884d4e",
     "grade": false,
     "grade_id": "cell-a1bf4b872c8beb65",
     "locked": true,
     "schema_version": 3,
     "solution": false,
     "task": false
    }
   },
   "source": [
    "Write your explanation below:"
   ]
  },
  {
   "cell_type": "markdown",
   "metadata": {
    "deletable": false,
    "id": "B1Q6WWciMRDY",
    "nbgrader": {
     "cell_type": "markdown",
     "checksum": "58040e914b8a907d7c6c02373f75e953",
     "grade": true,
     "grade_id": "cell-cc6ddb7d332610c3",
     "locked": false,
     "points": 10,
     "schema_version": 3,
     "solution": true,
     "task": false
    }
   },
   "source": [
    "The difference in demographic parity shows the difference between prediction rates to be -0.113, while equal opportunity difference shows a value of -0.3889. The equalized odds difference is shown to be [TPR: -0.3889, FPR: 0.1538]. Since the equal opportunity and TPR difference are larger, it indicates a notable disparity in the model’s performance between groups, suggesting that the model may not be fair."
   ]
  },
  {
   "cell_type": "code",
   "execution_count": 165,
   "metadata": {
    "deletable": false,
    "id": "FHXcBfds1yqc",
    "nbgrader": {
     "cell_type": "code",
     "checksum": "b6b59587a197cd00f2147d95341e18cc",
     "grade": true,
     "grade_id": "cell-c67bc5db359dd147",
     "locked": false,
     "points": 6,
     "schema_version": 3,
     "solution": true,
     "task": false
    }
   },
   "outputs": [
    {
     "name": "stdout",
     "output_type": "stream",
     "text": [
      "Demographic Parity Difference: 0.08426966292134831\n",
      "Equal Opportunity Difference: 0.7647058823529411\n",
      "Equalized Odds Differences (TPR, FPR): [0.7647058823529411, 0.10526315789473684]\n"
     ]
    }
   ],
   "source": [
    "# Code and explanation for 3 here\n",
    "# Demographic parity difference\n",
    "# YOUR CODE HERE\n",
    "# raise NotImplementedError()\n",
    "young_age_threshold = 30\n",
    "old_age_threshold = 50\n",
    "X_test['AgeGroup'] = [\"young\" if age <= young_age_threshold else \"old\" for age in X_test['Age']]\n",
    "\n",
    "# Demographic parity difference\n",
    "demographic_parity = poslabel_metric(Y_pred, X_test, \"AgeGroup\", \"young\") - poslabel_metric(Y_pred, X_test, \"AgeGroup\", \"old\")\n",
    "print(\"Demographic Parity Difference:\", demographic_parity)\n",
    "\n",
    "# Equal Opportunity Difference\n",
    "eq_opp_diff = float(tpr_metric(Y_test, Y_pred, X_test, \"AgeGroup\", \"young\") - tpr_metric(Y_test, Y_pred, X_test, \"AgeGroup\", \"old\"))\n",
    "print(\"Equal Opportunity Difference:\", eq_opp_diff)\n",
    "\n",
    "# Equalized Odds Difference\n",
    "fpr_diff = float(fpr_metric(Y_test, Y_pred, X_test, \"AgeGroup\", \"young\") - fpr_metric(Y_test, Y_pred, X_test, \"AgeGroup\", \"old\"))\n",
    "print(\"Equalized Odds Differences (TPR, FPR):\", [eq_opp_diff, fpr_diff])"
   ]
  },
  {
   "cell_type": "markdown",
   "metadata": {
    "deletable": false,
    "editable": false,
    "id": "atjkpd8vdu5A",
    "nbgrader": {
     "cell_type": "markdown",
     "checksum": "304bd769d2c47c196cb028558016d100",
     "grade": false,
     "grade_id": "cell-3525a2a956db4055",
     "locked": true,
     "schema_version": 3,
     "solution": false,
     "task": false
    }
   },
   "source": [
    "Write your explanation below:"
   ]
  },
  {
   "cell_type": "markdown",
   "metadata": {
    "deletable": false,
    "id": "G8vP25LUM6Pf",
    "nbgrader": {
     "cell_type": "markdown",
     "checksum": "a2eb3de9a6bf895186a11b8848881304",
     "grade": true,
     "grade_id": "cell-c7acc6950a386d7e",
     "locked": false,
     "points": 10,
     "schema_version": 3,
     "solution": true,
     "task": false
    }
   },
   "source": [
    "The difference in demographic parity shows the difference between prediction rates to be 0.0843, while equal opportunity difference shows a value of 0.7647. The equalized odds difference is shown to be [TPR: 0.7647, FPR: 0.1053]. The significant difference in equal opportunity (TPR) indicates that the model may not provide equal opportunity across groups, especially in terms of true positive rates, suggesting that further improvement is needed for fairness."
   ]
  },
  {
   "cell_type": "markdown",
   "metadata": {
    "deletable": false,
    "editable": false,
    "id": "oiP_EJobdu5A",
    "nbgrader": {
     "cell_type": "markdown",
     "checksum": "a99b454c50f7e9878aee9dce2b0af662",
     "grade": false,
     "grade_id": "cell-691206572ce0abce",
     "locked": true,
     "schema_version": 3,
     "solution": false,
     "task": false
    }
   },
   "source": [
    "**Question 7.3.** Finally, evaluate the performance of your classifier using a classification report. Comment on each metric and what it means in terms of algorithmic fairness."
   ]
  },
  {
   "cell_type": "code",
   "execution_count": 166,
   "metadata": {
    "deletable": false,
    "id": "aEDS68zW1yqh",
    "nbgrader": {
     "cell_type": "code",
     "checksum": "08f4e16ab12b21a6d67df405e3f03ab3",
     "grade": true,
     "grade_id": "cell-7609f60b9c1cffdd",
     "locked": false,
     "points": 2,
     "schema_version": 3,
     "solution": true,
     "task": false
    }
   },
   "outputs": [
    {
     "name": "stdout",
     "output_type": "stream",
     "text": [
      "Classification Report:\n",
      "              precision    recall  f1-score   support\n",
      "\n",
      "           0       0.77      0.86      0.81        99\n",
      "           1       0.79      0.68      0.73        79\n",
      "\n",
      "    accuracy                           0.78       178\n",
      "   macro avg       0.78      0.77      0.77       178\n",
      "weighted avg       0.78      0.78      0.78       178\n",
      "\n",
      "Accuracy: 0.7809\n"
     ]
    }
   ],
   "source": [
    "from sklearn.metrics import classification_report\n",
    "# YOUR CODE HERE\n",
    "# raise NotImplementedError()\n",
    "Y_pred = model.predict(X_test)\n",
    "\n",
    "# Generate the classification report\n",
    "print(\"Classification Report:\")\n",
    "print(classification_report(Y_test, Y_pred))\n",
    "\n",
    "# Calculate and print accuracy score\n",
    "accuracy = accuracy_score(Y_test, Y_pred)\n",
    "print(f\"Accuracy: {accuracy:.4f}\")"
   ]
  },
  {
   "cell_type": "markdown",
   "metadata": {
    "deletable": false,
    "id": "pD7WcGlrdu5A",
    "nbgrader": {
     "cell_type": "markdown",
     "checksum": "5b7ab354ba0bb18bb37311fa15833712",
     "grade": true,
     "grade_id": "cell-6cf53c984b2ec8b2",
     "locked": false,
     "points": 10,
     "schema_version": 3,
     "solution": true,
     "task": false
    }
   },
   "source": [
    "The classification report indicates that the model performs reasonably well, with an overall accuracy of 78.09%. Precision is slightly higher for predicting survivors (0.79) compared to non-survivors (0.77), suggesting the model is generally accurate when predicting both classes. However, the recall for non-survivors is high at 0.86, while it is lower for survivors at 0.68, meaning the model tends to miss more survivors than non-survivors. This results in an F1-score of 0.81 for non-survivors and 0.73 for survivors, indicating that the model has a better balance for predicting non-survivors. While the macro and weighted averages show a balanced performance across both classes, the lower recall for survivors highlights that the model could be improved to better identify survivors, which is important for fairness in terms of algorithmic performance."
   ]
  },
  {
   "cell_type": "markdown",
   "metadata": {
    "deletable": false,
    "editable": false,
    "id": "-NnUXDYzdu5A",
    "nbgrader": {
     "cell_type": "markdown",
     "checksum": "b25f4ad3b8acf39758629ef56b174c7f",
     "grade": false,
     "grade_id": "cell-8d7cacd8870a2e0c",
     "locked": true,
     "schema_version": 3,
     "solution": false,
     "task": false
    }
   },
   "source": [
    "# Rubric\n",
    "\n",
    "| Question | Points|                   \n",
    "|----------|----------|\n",
    "| 1.   | 5  |\n",
    "| 1.1.    | 10   |\n",
    "| 2.    | 10   |\n",
    "| 3.    | 5   |\n",
    "| 3.1.    | 2  |\n",
    "| 4.  | 5   |\n",
    "| 4.1.    | 10   |\n",
    "| 4.2   | 5   |\n",
    "| 5.    | 5   |\n",
    "| 5.1.   | 10   |\n",
    "| 5.2.    | 5   |\n",
    "| 6.  | 2  |\n",
    "| 6.1.   | 2   |\n",
    "| 6.2.   | 5  |\n",
    "| 6.3.    | 10   |\n",
    "| 6.4.    | 6  |\n",
    "| 6.5.    | 5 |\n",
    "| 6.6.  | 2  |\n",
    "| 7.    | 2   |\n",
    "| 7.1.   | 30   |\n",
    "| 7.2.  | 48  |\n",
    "| 7.3.   | 12   |  \n",
    "| Total:   | 196   |\n",
    "\n"
   ]
  }
 ],
 "metadata": {
  "colab": {
   "provenance": []
  },
  "kernelspec": {
   "display_name": "Python 3",
   "language": "python",
   "name": "python3"
  },
  "language_info": {
   "codemirror_mode": {
    "name": "ipython",
    "version": 3
   },
   "file_extension": ".py",
   "mimetype": "text/x-python",
   "name": "python",
   "nbconvert_exporter": "python",
   "pygments_lexer": "ipython3",
   "version": "3.10.11"
  }
 },
 "nbformat": 4,
 "nbformat_minor": 0
}
